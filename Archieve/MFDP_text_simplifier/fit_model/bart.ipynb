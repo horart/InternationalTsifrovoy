{
 "cells": [
  {
   "cell_type": "code",
   "execution_count": 1,
   "id": "489bd61c",
   "metadata": {},
   "outputs": [
    {
     "name": "stderr",
     "output_type": "stream",
     "text": [
      "C:\\Users\\nkhozin\\anaconda3\\envs\\myenv\\lib\\site-packages\\tqdm\\auto.py:21: TqdmWarning: IProgress not found. Please update jupyter and ipywidgets. See https://ipywidgets.readthedocs.io/en/stable/user_install.html\n",
      "  from .autonotebook import tqdm as notebook_tqdm\n"
     ]
    }
   ],
   "source": [
    "from transformers import AutoTokenizer, AutoModelForSeq2SeqLM, Seq2SeqTrainingArguments, Seq2SeqTrainer, DataCollatorForSeq2Seq\n",
    "import pandas as pd\n",
    "from datasets import load_dataset, load_metric\n",
    "from sklearn.utils import shuffle\n",
    "import torch \n",
    "import mlflow\n",
    "import numpy as np\n",
    "from transformers import BartForConditionalGeneration, BartTokenizer, Trainer, TrainingArguments"
   ]
  },
  {
   "cell_type": "code",
   "execution_count": 2,
   "id": "326eb207",
   "metadata": {},
   "outputs": [
    {
     "name": "stderr",
     "output_type": "stream",
     "text": [
      "C:\\Users\\nkhozin\\AppData\\Local\\Temp\\ipykernel_15328\\1264828061.py:1: FutureWarning: load_metric is deprecated and will be removed in the next major version of datasets. Use 'evaluate.load' instead, from the new library 🤗 Evaluate: https://huggingface.co/docs/evaluate\n",
      "  metric = load_metric('rouge')\n"
     ]
    }
   ],
   "source": [
    "metric = load_metric('rouge')"
   ]
  },
  {
   "cell_type": "code",
   "execution_count": 3,
   "id": "17a0cca6",
   "metadata": {},
   "outputs": [],
   "source": [
    "model_name = \"facebook/bart-large\"\n",
    "tokenizer = AutoTokenizer.from_pretrained(model_name)\n",
    "model = AutoModelForSeq2SeqLM.from_pretrained(model_name)"
   ]
  },
  {
   "cell_type": "code",
   "execution_count": 4,
   "id": "298cb729",
   "metadata": {},
   "outputs": [
    {
     "name": "stdout",
     "output_type": "stream",
     "text": [
      "20480 2560\n"
     ]
    }
   ],
   "source": [
    "train_small = pd.read_csv('data\\\\train_small.csv', index_col=0)\n",
    "val = pd.read_csv('data\\\\eval.csv', index_col=0)\n",
    "\n",
    "train_pairs = list(zip(train_small.source, train_small.target))\n",
    "eval_pairs = list(zip(val.source, val.target))\n",
    "print(train_small.shape[0], val.shape[0])"
   ]
  },
  {
   "cell_type": "code",
   "execution_count": 5,
   "id": "ab1b85a3",
   "metadata": {},
   "outputs": [],
   "source": [
    "class SimplificationDataset(torch.utils.data.Dataset):\n",
    "    def __init__(self, pairs, tokenizer, max_length):\n",
    "        self.pairs = pairs\n",
    "        self.tokenizer = tokenizer\n",
    "        self.max_length = max_length\n",
    "\n",
    "    def __len__(self):\n",
    "        return len(self.pairs)\n",
    "\n",
    "    def __getitem__(self, index):\n",
    "        source_text, target_text = self.pairs[index]\n",
    "        source_encoding = self.tokenizer(source_text, truncation=True, max_length=self.max_length, padding=\"max_length\")\n",
    "        target_encoding = self.tokenizer(target_text, truncation=True, max_length=self.max_length, padding=\"max_length\")\n",
    "\n",
    "        return {\n",
    "            \"input_ids\": source_encoding[\"input_ids\"],\n",
    "            \"attention_mask\": source_encoding[\"attention_mask\"],\n",
    "            \"labels\": target_encoding[\"input_ids\"],\n",
    "        }"
   ]
  },
  {
   "cell_type": "code",
   "execution_count": 6,
   "id": "24a615c1",
   "metadata": {},
   "outputs": [],
   "source": [
    "max_length = 512\n",
    "train_dataset = SimplificationDataset(train_pairs, tokenizer, max_length=max_length)\n",
    "eval_dataset = SimplificationDataset(eval_pairs, tokenizer, max_length=max_length)"
   ]
  },
  {
   "cell_type": "code",
   "execution_count": 7,
   "id": "d136471d",
   "metadata": {},
   "outputs": [],
   "source": [
    "collator = DataCollatorForSeq2Seq(tokenizer, model=model)"
   ]
  },
  {
   "cell_type": "code",
   "execution_count": 8,
   "id": "211def44",
   "metadata": {},
   "outputs": [],
   "source": [
    "def compute_rouge(pred):\n",
    "    predictions, labels = pred\n",
    "\n",
    "    decode_predictions = tokenizer.batch_decode(predictions, skip_special_tokens=True)\n",
    "    \n",
    "    labels = np.where(labels != -100, labels, tokenizer.pad_token_id)\n",
    "    \n",
    "    decode_labels = tokenizer.batch_decode(labels, skip_special_tokens=True)\n",
    "    \n",
    "    res = metric.compute(predictions=decode_predictions, references=decode_labels, use_stemmer=True)\n",
    "\n",
    "    res = {key: value.mid.fmeasure * 100 for key, value in res.items()}\n",
    "\n",
    "    pred_lens = [np.count_nonzero(pred != tokenizer.pad_token_id) for pred in predictions]\n",
    "    res['gen_len'] = np.mean(pred_lens)\n",
    "\n",
    "    return {k: round(v, 4) for k, v in res.items()}"
   ]
  },
  {
   "cell_type": "code",
   "execution_count": 12,
   "id": "af2d9062",
   "metadata": {},
   "outputs": [
    {
     "name": "stderr",
     "output_type": "stream",
     "text": [
      "using `logging_steps` to initialize `eval_steps` to 1000\n",
      "PyTorch: setting up devices\n",
      "The default value for the training argument `--report_to` will change in v5 (from all installed integrations to none). In v5, you will need to use `--report_to all` to get the same behavior as now. You should start updating your code and make this info disappear :-).\n",
      "Using cuda_amp half precision backend\n"
     ]
    }
   ],
   "source": [
    "args = Seq2SeqTrainingArguments(\n",
    "    'bart', \n",
    "    learning_rate=2e-5,\n",
    "    per_device_train_batch_size= 6,\n",
    "    per_device_eval_batch_size= 6,\n",
    "    num_train_epochs=3,\n",
    "    predict_with_generate=True,\n",
    "    evaluation_strategy='steps',\n",
    "    logging_steps=1000,\n",
    "    save_steps=10000,\n",
    "    fp16=True\n",
    "    )\n",
    "\n",
    "trainer = Seq2SeqTrainer(\n",
    "    model, \n",
    "    args,\n",
    "    train_dataset=train_dataset,\n",
    "    eval_dataset=eval_dataset,\n",
    "    tokenizer=tokenizer,\n",
    "    data_collator=collator,\n",
    "    compute_metrics=compute_rouge\n",
    ")"
   ]
  },
  {
   "cell_type": "code",
   "execution_count": 13,
   "id": "bdb02382",
   "metadata": {},
   "outputs": [],
   "source": [
    "experiment_name = \"bart\"\n",
    "mlflow.set_experiment(experiment_name=experiment_name)\n",
    "current_experiment = dict(mlflow.get_experiment_by_name(experiment_name))\n",
    "exp_id = current_experiment['experiment_id']"
   ]
  },
  {
   "cell_type": "code",
   "execution_count": 14,
   "id": "0984a676",
   "metadata": {
    "scrolled": false
   },
   "outputs": [
    {
     "name": "stderr",
     "output_type": "stream",
     "text": [
      "***** Running training *****\n",
      "  Num examples = 20480\n",
      "  Num Epochs = 3\n",
      "  Instantaneous batch size per device = 6\n",
      "  Total train batch size (w. parallel, distributed & accumulation) = 6\n",
      "  Gradient Accumulation steps = 1\n",
      "  Total optimization steps = 10242\n",
      "  Number of trainable parameters = 406291456\n"
     ]
    },
    {
     "data": {
      "text/html": [
       "\n",
       "    <div>\n",
       "      \n",
       "      <progress value='10242' max='10242' style='width:300px; height:20px; vertical-align: middle;'></progress>\n",
       "      [10242/10242 1:28:33, Epoch 3/3]\n",
       "    </div>\n",
       "    <table border=\"1\" class=\"dataframe\">\n",
       "  <thead>\n",
       " <tr style=\"text-align: left;\">\n",
       "      <th>Step</th>\n",
       "      <th>Training Loss</th>\n",
       "      <th>Validation Loss</th>\n",
       "      <th>Rouge1</th>\n",
       "      <th>Rouge2</th>\n",
       "      <th>Rougel</th>\n",
       "      <th>Rougelsum</th>\n",
       "      <th>Gen Len</th>\n",
       "    </tr>\n",
       "  </thead>\n",
       "  <tbody>\n",
       "    <tr>\n",
       "      <td>1000</td>\n",
       "      <td>0.190500</td>\n",
       "      <td>0.193545</td>\n",
       "      <td>1.708700</td>\n",
       "      <td>0.364600</td>\n",
       "      <td>1.721600</td>\n",
       "      <td>1.734200</td>\n",
       "      <td>19.994100</td>\n",
       "    </tr>\n",
       "    <tr>\n",
       "      <td>2000</td>\n",
       "      <td>0.176300</td>\n",
       "      <td>0.189292</td>\n",
       "      <td>1.612400</td>\n",
       "      <td>0.343700</td>\n",
       "      <td>1.623500</td>\n",
       "      <td>1.641000</td>\n",
       "      <td>19.994100</td>\n",
       "    </tr>\n",
       "    <tr>\n",
       "      <td>3000</td>\n",
       "      <td>0.188500</td>\n",
       "      <td>0.174543</td>\n",
       "      <td>1.678200</td>\n",
       "      <td>0.289100</td>\n",
       "      <td>1.700000</td>\n",
       "      <td>1.707300</td>\n",
       "      <td>19.987900</td>\n",
       "    </tr>\n",
       "    <tr>\n",
       "      <td>4000</td>\n",
       "      <td>0.186400</td>\n",
       "      <td>0.171757</td>\n",
       "      <td>1.631600</td>\n",
       "      <td>0.317700</td>\n",
       "      <td>1.626000</td>\n",
       "      <td>1.643300</td>\n",
       "      <td>19.992600</td>\n",
       "    </tr>\n",
       "    <tr>\n",
       "      <td>5000</td>\n",
       "      <td>0.178800</td>\n",
       "      <td>0.167954</td>\n",
       "      <td>1.685200</td>\n",
       "      <td>0.352300</td>\n",
       "      <td>1.675600</td>\n",
       "      <td>1.696200</td>\n",
       "      <td>19.988300</td>\n",
       "    </tr>\n",
       "    <tr>\n",
       "      <td>6000</td>\n",
       "      <td>0.177100</td>\n",
       "      <td>0.164487</td>\n",
       "      <td>1.860900</td>\n",
       "      <td>0.338500</td>\n",
       "      <td>1.867500</td>\n",
       "      <td>1.890300</td>\n",
       "      <td>19.992200</td>\n",
       "    </tr>\n",
       "    <tr>\n",
       "      <td>7000</td>\n",
       "      <td>0.172800</td>\n",
       "      <td>0.162993</td>\n",
       "      <td>1.612100</td>\n",
       "      <td>0.303400</td>\n",
       "      <td>1.609900</td>\n",
       "      <td>1.625300</td>\n",
       "      <td>19.989100</td>\n",
       "    </tr>\n",
       "    <tr>\n",
       "      <td>8000</td>\n",
       "      <td>0.168700</td>\n",
       "      <td>0.161706</td>\n",
       "      <td>1.620700</td>\n",
       "      <td>0.260400</td>\n",
       "      <td>1.626600</td>\n",
       "      <td>1.631800</td>\n",
       "      <td>19.991400</td>\n",
       "    </tr>\n",
       "    <tr>\n",
       "      <td>9000</td>\n",
       "      <td>0.166700</td>\n",
       "      <td>0.159812</td>\n",
       "      <td>1.858800</td>\n",
       "      <td>0.331400</td>\n",
       "      <td>1.867900</td>\n",
       "      <td>1.886700</td>\n",
       "      <td>19.991000</td>\n",
       "    </tr>\n",
       "    <tr>\n",
       "      <td>10000</td>\n",
       "      <td>0.164700</td>\n",
       "      <td>0.158522</td>\n",
       "      <td>1.752000</td>\n",
       "      <td>0.270800</td>\n",
       "      <td>1.763600</td>\n",
       "      <td>1.778300</td>\n",
       "      <td>19.994500</td>\n",
       "    </tr>\n",
       "  </tbody>\n",
       "</table><p>"
      ],
      "text/plain": [
       "<IPython.core.display.HTML object>"
      ]
     },
     "metadata": {},
     "output_type": "display_data"
    },
    {
     "name": "stderr",
     "output_type": "stream",
     "text": [
      "***** Running Evaluation *****\n",
      "  Num examples = 2560\n",
      "  Batch size = 6\n",
      "***** Running Evaluation *****\n",
      "  Num examples = 2560\n",
      "  Batch size = 6\n",
      "***** Running Evaluation *****\n",
      "  Num examples = 2560\n",
      "  Batch size = 6\n",
      "***** Running Evaluation *****\n",
      "  Num examples = 2560\n",
      "  Batch size = 6\n",
      "***** Running Evaluation *****\n",
      "  Num examples = 2560\n",
      "  Batch size = 6\n",
      "***** Running Evaluation *****\n",
      "  Num examples = 2560\n",
      "  Batch size = 6\n",
      "***** Running Evaluation *****\n",
      "  Num examples = 2560\n",
      "  Batch size = 6\n",
      "***** Running Evaluation *****\n",
      "  Num examples = 2560\n",
      "  Batch size = 6\n",
      "***** Running Evaluation *****\n",
      "  Num examples = 2560\n",
      "  Batch size = 6\n",
      "***** Running Evaluation *****\n",
      "  Num examples = 2560\n",
      "  Batch size = 6\n",
      "Saving model checkpoint to bart\\checkpoint-10000\n",
      "Configuration saved in bart\\checkpoint-10000\\config.json\n",
      "Model weights saved in bart\\checkpoint-10000\\pytorch_model.bin\n",
      "tokenizer config file saved in bart\\checkpoint-10000\\tokenizer_config.json\n",
      "Special tokens file saved in bart\\checkpoint-10000\\special_tokens_map.json\n",
      "\n",
      "\n",
      "Training completed. Do not forget to share your model on huggingface.co/models =)\n",
      "\n",
      "\n",
      "***** Running Evaluation *****\n",
      "  Num examples = 2560\n",
      "  Batch size = 6\n"
     ]
    },
    {
     "data": {
      "text/html": [
       "\n",
       "    <div>\n",
       "      \n",
       "      <progress value='427' max='427' style='width:300px; height:20px; vertical-align: middle;'></progress>\n",
       "      [427/427 02:58]\n",
       "    </div>\n",
       "    "
      ],
      "text/plain": [
       "<IPython.core.display.HTML object>"
      ]
     },
     "metadata": {},
     "output_type": "display_data"
    },
    {
     "name": "stderr",
     "output_type": "stream",
     "text": [
      "Saving model checkpoint to ./bart\n",
      "Configuration saved in ./bart\\config.json\n",
      "Model weights saved in ./bart\\pytorch_model.bin\n",
      "tokenizer config file saved in ./bart\\tokenizer_config.json\n",
      "Special tokens file saved in ./bart\\special_tokens_map.json\n"
     ]
    }
   ],
   "source": [
    "with mlflow.start_run(experiment_id=exp_id, run_name='first_test'):\n",
    "    # Логируем параметры\n",
    "    mlflow.log_param('model_name', model_name)\n",
    "    #mlflow.log_param('max_length', max_length)\n",
    "    mlflow.log_param('train_data_size', len(train_dataset))\n",
    "    mlflow.log_param('batch_size', args.per_device_train_batch_size)\n",
    "    \n",
    "    trainer.train()\n",
    "    \n",
    "    # Логируем метрики\n",
    "    metrics = trainer.evaluate()\n",
    "    for key, value in metrics.items():\n",
    "        mlflow.log_metric(key, value)\n",
    "\n",
    "    # Сохраняем модель и логируем путь к ней\n",
    "    output_dir = './bart'\n",
    "    trainer.save_model(output_dir)\n",
    "    mlflow.log_artifacts(output_dir, artifact_path='models')\n",
    "    \n",
    "mlflow.end_run()"
   ]
  }
 ],
 "metadata": {
  "kernelspec": {
   "display_name": "Python 3 (ipykernel)",
   "language": "python",
   "name": "python3"
  },
  "language_info": {
   "codemirror_mode": {
    "name": "ipython",
    "version": 3
   },
   "file_extension": ".py",
   "mimetype": "text/x-python",
   "name": "python",
   "nbconvert_exporter": "python",
   "pygments_lexer": "ipython3",
   "version": "3.10.11"
  }
 },
 "nbformat": 4,
 "nbformat_minor": 5
}
