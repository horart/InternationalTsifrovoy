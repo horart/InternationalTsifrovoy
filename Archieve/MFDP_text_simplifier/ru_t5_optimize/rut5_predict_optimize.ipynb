{
 "cells": [
  {
   "cell_type": "code",
   "execution_count": 1,
   "id": "3560897c",
   "metadata": {},
   "outputs": [
    {
     "name": "stderr",
     "output_type": "stream",
     "text": [
      "C:\\Users\\nkhozin\\anaconda3\\envs\\myenv\\lib\\site-packages\\tqdm\\auto.py:21: TqdmWarning: IProgress not found. Please update jupyter and ipywidgets. See https://ipywidgets.readthedocs.io/en/stable/user_install.html\n",
      "  from .autonotebook import tqdm as notebook_tqdm\n"
     ]
    },
    {
     "name": "stdout",
     "output_type": "stream",
     "text": [
      "importing Jupyter notebook from sari.ipynb\n"
     ]
    }
   ],
   "source": [
    "import pandas as pd\n",
    "import torch \n",
    "from transformers import T5ForConditionalGeneration, T5Tokenizer\n",
    "from transformers import AutoTokenizer, AutoModelForSeq2SeqLM\n",
    "from transformers import GPT2LMHeadModel, GPT2Tokenizer\n",
    "from sklearn.model_selection import train_test_split\n",
    "from datetime import datetime as dt\n",
    "import import_ipynb\n",
    "from sari import SARIsent\n",
    "from datasets import load_dataset, load_metric\n",
    "from rouge_score import rouge_scorer\n",
    "import numpy as  np\n",
    "import optuna\n",
    "import pickle"
   ]
  },
  {
   "cell_type": "code",
   "execution_count": 32,
   "id": "d6cc9996",
   "metadata": {},
   "outputs": [],
   "source": [
    "model_name = \"rut5_v7\"\n",
    "model = T5ForConditionalGeneration.from_pretrained(model_name).cuda()\n",
    "tokenizer = T5Tokenizer.from_pretrained(model_name)\n",
    "device='cuda'"
   ]
  },
  {
   "cell_type": "code",
   "execution_count": 33,
   "id": "25d8dcea",
   "metadata": {},
   "outputs": [],
   "source": [
    "val = pd.read_csv('data\\\\eval.csv', index_col=0)\n",
    "val = val.sample(1000)"
   ]
  },
  {
   "cell_type": "code",
   "execution_count": 34,
   "id": "281c45ff",
   "metadata": {},
   "outputs": [],
   "source": [
    "def objective(trial):    \n",
    "    repetition_penalty = trial.suggest_float(\"repetition_penalty\", 0, 1)\n",
    "    num_beams = trial.suggest_categorical(\"num_beams\", [2, 3, 4, 5])\n",
    "    max_length = trial.suggest_float(\"max_length\", 0.4, 1)\n",
    "    length_penalty = trial.suggest_float(\"length_penalty\", 0.2, 2.0)\n",
    "    no_repeat_ngram_size = trial.suggest_int(\"no_repeat_ngram_size\", 0, 5)\n",
    "    early_stopping = trial.suggest_categorical(\"early_stopping\", [True, False])\n",
    "    \n",
    "    def generate_t5(model, tokenizer, text):\n",
    "        inputs = tokenizer(text, truncation=True, return_tensors='pt').to(device)\n",
    "        with torch.no_grad():\n",
    "            hypotheses = model.generate(inputs[\"input_ids\"],\n",
    "                                        num_beams=int(num_beams),\n",
    "                                        length_penalty=length_penalty,\n",
    "                                        no_repeat_ngram_size=int(no_repeat_ngram_size),\n",
    "                                        early_stopping=early_stopping,\n",
    "                                        max_length=int(len(text)*max_length)\n",
    "                                       )\n",
    "        return tokenizer.decode(hypotheses[0], skip_special_tokens=True)\n",
    "\n",
    "    val[\"pred\"] = val.source.apply(lambda value: generate_t5(model, tokenizer, value))\n",
    "    val[\"SARI\"] = val.apply(lambda row: SARIsent(row['source'], row[f\"pred\"] ,row['target']), axis=1)*100\n",
    "    print(val[\"SARI\"].mean())\n",
    "    return val[\"SARI\"].mean()"
   ]
  },
  {
   "cell_type": "code",
   "execution_count": 36,
   "id": "49380c05",
   "metadata": {},
   "outputs": [
    {
     "name": "stderr",
     "output_type": "stream",
     "text": [
      "\u001b[32m[I 2023-05-29 00:07:47,226]\u001b[0m A new study created in memory with name: no-name-f69f60ba-6b7e-44e1-ae41-c47a55d20618\u001b[0m\n"
     ]
    }
   ],
   "source": [
    "study = optuna.create_study(direction='maximize')"
   ]
  },
  {
   "cell_type": "code",
   "execution_count": 37,
   "id": "10f1ebae",
   "metadata": {
    "scrolled": true
   },
   "outputs": [
    {
     "name": "stderr",
     "output_type": "stream",
     "text": [
      "Asking to truncate to max_length but no maximum length is provided and the model has no predefined maximum length. Default to no truncation.\n",
      "\u001b[32m[I 2023-05-29 00:12:53,110]\u001b[0m Trial 0 finished with value: 33.38933977837658 and parameters: {'repetition_penalty': 0.8262450281160829, 'num_beams': 4, 'max_length': 0.8664604437707002, 'length_penalty': 1.7127475529047291, 'no_repeat_ngram_size': 3, 'early_stopping': True}. Best is trial 0 with value: 33.38933977837658.\u001b[0m\n"
     ]
    },
    {
     "name": "stdout",
     "output_type": "stream",
     "text": [
      "33.38933977837658\n"
     ]
    },
    {
     "name": "stderr",
     "output_type": "stream",
     "text": [
      "\u001b[32m[I 2023-05-29 00:17:45,266]\u001b[0m Trial 1 finished with value: 33.4004049550285 and parameters: {'repetition_penalty': 0.3272026075593726, 'num_beams': 2, 'max_length': 0.504418909238358, 'length_penalty': 0.4200193732919183, 'no_repeat_ngram_size': 3, 'early_stopping': True}. Best is trial 1 with value: 33.4004049550285.\u001b[0m\n"
     ]
    },
    {
     "name": "stdout",
     "output_type": "stream",
     "text": [
      "33.4004049550285\n"
     ]
    },
    {
     "name": "stderr",
     "output_type": "stream",
     "text": [
      "\u001b[32m[I 2023-05-29 00:23:33,955]\u001b[0m Trial 2 finished with value: 33.3815475258723 and parameters: {'repetition_penalty': 0.21327657559037239, 'num_beams': 3, 'max_length': 0.8582372561110928, 'length_penalty': 1.5183445075545265, 'no_repeat_ngram_size': 5, 'early_stopping': False}. Best is trial 1 with value: 33.4004049550285.\u001b[0m\n"
     ]
    },
    {
     "name": "stdout",
     "output_type": "stream",
     "text": [
      "33.3815475258723\n"
     ]
    },
    {
     "name": "stderr",
     "output_type": "stream",
     "text": [
      "\u001b[32m[I 2023-05-29 00:29:12,576]\u001b[0m Trial 3 finished with value: 33.39185326243003 and parameters: {'repetition_penalty': 0.31496024748255724, 'num_beams': 4, 'max_length': 0.5605221764332744, 'length_penalty': 1.4543753202209355, 'no_repeat_ngram_size': 2, 'early_stopping': False}. Best is trial 1 with value: 33.4004049550285.\u001b[0m\n"
     ]
    },
    {
     "name": "stdout",
     "output_type": "stream",
     "text": [
      "33.39185326243003\n"
     ]
    },
    {
     "name": "stderr",
     "output_type": "stream",
     "text": [
      "\u001b[32m[I 2023-05-29 00:35:05,880]\u001b[0m Trial 4 finished with value: 33.385366871883 and parameters: {'repetition_penalty': 0.43483059602487717, 'num_beams': 3, 'max_length': 0.7276426023277202, 'length_penalty': 1.7962621722146495, 'no_repeat_ngram_size': 4, 'early_stopping': False}. Best is trial 1 with value: 33.4004049550285.\u001b[0m\n"
     ]
    },
    {
     "name": "stdout",
     "output_type": "stream",
     "text": [
      "33.385366871883\n"
     ]
    },
    {
     "name": "stderr",
     "output_type": "stream",
     "text": [
      "\u001b[32m[I 2023-05-29 00:40:09,648]\u001b[0m Trial 5 finished with value: 33.38595571697062 and parameters: {'repetition_penalty': 0.5475444017799465, 'num_beams': 4, 'max_length': 0.832360002351184, 'length_penalty': 1.6433281224322982, 'no_repeat_ngram_size': 4, 'early_stopping': True}. Best is trial 1 with value: 33.4004049550285.\u001b[0m\n"
     ]
    },
    {
     "name": "stdout",
     "output_type": "stream",
     "text": [
      "33.38595571697062\n"
     ]
    },
    {
     "name": "stderr",
     "output_type": "stream",
     "text": [
      "\u001b[32m[I 2023-05-29 00:45:50,100]\u001b[0m Trial 6 finished with value: 33.37426396957824 and parameters: {'repetition_penalty': 0.5656245013308283, 'num_beams': 4, 'max_length': 0.6217913532899175, 'length_penalty': 0.4992998328852529, 'no_repeat_ngram_size': 4, 'early_stopping': False}. Best is trial 1 with value: 33.4004049550285.\u001b[0m\n"
     ]
    },
    {
     "name": "stdout",
     "output_type": "stream",
     "text": [
      "33.37426396957824\n"
     ]
    },
    {
     "name": "stderr",
     "output_type": "stream",
     "text": [
      "\u001b[32m[I 2023-05-29 00:50:33,325]\u001b[0m Trial 7 finished with value: 33.405164003012324 and parameters: {'repetition_penalty': 0.85053915382167, 'num_beams': 2, 'max_length': 0.6109119024276185, 'length_penalty': 0.23971811645453203, 'no_repeat_ngram_size': 2, 'early_stopping': True}. Best is trial 7 with value: 33.405164003012324.\u001b[0m\n"
     ]
    },
    {
     "name": "stdout",
     "output_type": "stream",
     "text": [
      "33.405164003012324\n"
     ]
    },
    {
     "name": "stderr",
     "output_type": "stream",
     "text": [
      "\u001b[32m[I 2023-05-29 00:56:17,468]\u001b[0m Trial 8 finished with value: 33.37061305700931 and parameters: {'repetition_penalty': 0.15285730351708116, 'num_beams': 5, 'max_length': 0.9605819820616206, 'length_penalty': 0.7736296397773368, 'no_repeat_ngram_size': 0, 'early_stopping': False}. Best is trial 7 with value: 33.405164003012324.\u001b[0m\n"
     ]
    },
    {
     "name": "stdout",
     "output_type": "stream",
     "text": [
      "33.37061305700931\n"
     ]
    },
    {
     "name": "stderr",
     "output_type": "stream",
     "text": [
      "\u001b[32m[I 2023-05-29 01:02:24,215]\u001b[0m Trial 9 finished with value: 33.39280457275157 and parameters: {'repetition_penalty': 0.611782110610218, 'num_beams': 5, 'max_length': 0.9456275729012084, 'length_penalty': 1.664008977775046, 'no_repeat_ngram_size': 2, 'early_stopping': False}. Best is trial 7 with value: 33.405164003012324.\u001b[0m\n"
     ]
    },
    {
     "name": "stdout",
     "output_type": "stream",
     "text": [
      "33.39280457275157\n"
     ]
    },
    {
     "name": "stderr",
     "output_type": "stream",
     "text": [
      "\u001b[32m[I 2023-05-29 01:07:09,106]\u001b[0m Trial 10 finished with value: 33.393475642093996 and parameters: {'repetition_penalty': 0.9862811793965536, 'num_beams': 2, 'max_length': 0.4887087988448894, 'length_penalty': 0.2477455608890975, 'no_repeat_ngram_size': 0, 'early_stopping': True}. Best is trial 7 with value: 33.405164003012324.\u001b[0m\n"
     ]
    },
    {
     "name": "stdout",
     "output_type": "stream",
     "text": [
      "33.393475642093996\n"
     ]
    },
    {
     "name": "stderr",
     "output_type": "stream",
     "text": [
      "\u001b[32m[I 2023-05-29 01:10:56,029]\u001b[0m Trial 11 finished with value: 33.41444720602018 and parameters: {'repetition_penalty': 0.047453424663175925, 'num_beams': 2, 'max_length': 0.42669599187436186, 'length_penalty': 0.21901326964706638, 'no_repeat_ngram_size': 1, 'early_stopping': True}. Best is trial 11 with value: 33.41444720602018.\u001b[0m\n"
     ]
    },
    {
     "name": "stdout",
     "output_type": "stream",
     "text": [
      "33.41444720602018\n"
     ]
    },
    {
     "name": "stderr",
     "output_type": "stream",
     "text": [
      "\u001b[32m[I 2023-05-29 01:14:43,086]\u001b[0m Trial 12 finished with value: 33.41377726828697 and parameters: {'repetition_penalty': 0.00920771872713598, 'num_beams': 2, 'max_length': 0.41119980117592875, 'length_penalty': 0.967308739625766, 'no_repeat_ngram_size': 1, 'early_stopping': True}. Best is trial 11 with value: 33.41444720602018.\u001b[0m\n"
     ]
    },
    {
     "name": "stdout",
     "output_type": "stream",
     "text": [
      "33.41377726828697\n"
     ]
    },
    {
     "name": "stderr",
     "output_type": "stream",
     "text": [
      "\u001b[32m[I 2023-05-29 01:18:30,286]\u001b[0m Trial 13 finished with value: 33.41392922950942 and parameters: {'repetition_penalty': 0.000365999492988385, 'num_beams': 2, 'max_length': 0.41481651731152036, 'length_penalty': 0.9956793033362836, 'no_repeat_ngram_size': 1, 'early_stopping': True}. Best is trial 11 with value: 33.41444720602018.\u001b[0m\n"
     ]
    },
    {
     "name": "stdout",
     "output_type": "stream",
     "text": [
      "33.41392922950942\n"
     ]
    },
    {
     "name": "stderr",
     "output_type": "stream",
     "text": [
      "\u001b[32m[I 2023-05-29 01:22:17,782]\u001b[0m Trial 14 finished with value: 33.416254461749034 and parameters: {'repetition_penalty': 0.01917673226610328, 'num_beams': 2, 'max_length': 0.4004181435454263, 'length_penalty': 1.2213235705996663, 'no_repeat_ngram_size': 1, 'early_stopping': True}. Best is trial 14 with value: 33.416254461749034.\u001b[0m\n"
     ]
    },
    {
     "name": "stdout",
     "output_type": "stream",
     "text": [
      "33.416254461749034\n"
     ]
    },
    {
     "name": "stderr",
     "output_type": "stream",
     "text": [
      "\u001b[32m[I 2023-05-29 01:26:04,454]\u001b[0m Trial 15 finished with value: 33.416254461749034 and parameters: {'repetition_penalty': 0.12503351685247716, 'num_beams': 2, 'max_length': 0.4090160923499876, 'length_penalty': 1.225746164980665, 'no_repeat_ngram_size': 1, 'early_stopping': True}. Best is trial 14 with value: 33.416254461749034.\u001b[0m\n"
     ]
    },
    {
     "name": "stdout",
     "output_type": "stream",
     "text": [
      "33.416254461749034\n"
     ]
    },
    {
     "name": "stderr",
     "output_type": "stream",
     "text": [
      "\u001b[32m[I 2023-05-29 01:30:50,669]\u001b[0m Trial 16 finished with value: 33.393151766516716 and parameters: {'repetition_penalty': 0.11378372876874435, 'num_beams': 2, 'max_length': 0.5072461050442574, 'length_penalty': 1.2815718386275883, 'no_repeat_ngram_size': 0, 'early_stopping': True}. Best is trial 14 with value: 33.416254461749034.\u001b[0m\n"
     ]
    },
    {
     "name": "stdout",
     "output_type": "stream",
     "text": [
      "33.393151766516716\n"
     ]
    },
    {
     "name": "stderr",
     "output_type": "stream",
     "text": [
      "\u001b[32m[I 2023-05-29 01:34:38,471]\u001b[0m Trial 17 finished with value: 33.42558524292467 and parameters: {'repetition_penalty': 0.1945993267613373, 'num_beams': 2, 'max_length': 0.40144313063585124, 'length_penalty': 1.9605193568625845, 'no_repeat_ngram_size': 1, 'early_stopping': True}. Best is trial 17 with value: 33.42558524292467.\u001b[0m\n"
     ]
    },
    {
     "name": "stdout",
     "output_type": "stream",
     "text": [
      "33.42558524292467\n"
     ]
    },
    {
     "name": "stderr",
     "output_type": "stream",
     "text": [
      "\u001b[32m[I 2023-05-29 01:38:50,584]\u001b[0m Trial 18 finished with value: 33.422013770232844 and parameters: {'repetition_penalty': 0.24516444328739273, 'num_beams': 5, 'max_length': 0.6733184578874264, 'length_penalty': 1.9534731215507892, 'no_repeat_ngram_size': 1, 'early_stopping': True}. Best is trial 17 with value: 33.42558524292467.\u001b[0m\n"
     ]
    },
    {
     "name": "stdout",
     "output_type": "stream",
     "text": [
      "33.422013770232844\n"
     ]
    },
    {
     "name": "stderr",
     "output_type": "stream",
     "text": [
      "\u001b[32m[I 2023-05-29 01:43:47,031]\u001b[0m Trial 19 finished with value: 33.38261989327404 and parameters: {'repetition_penalty': 0.25258844214973125, 'num_beams': 5, 'max_length': 0.7037927530727559, 'length_penalty': 1.9743077388526087, 'no_repeat_ngram_size': 0, 'early_stopping': True}. Best is trial 17 with value: 33.42558524292467.\u001b[0m\n"
     ]
    },
    {
     "name": "stdout",
     "output_type": "stream",
     "text": [
      "33.38261989327404\n"
     ]
    },
    {
     "name": "stderr",
     "output_type": "stream",
     "text": [
      "\u001b[32m[I 2023-05-29 01:48:47,356]\u001b[0m Trial 20 finished with value: 33.39320614459558 and parameters: {'repetition_penalty': 0.4157429033374115, 'num_beams': 5, 'max_length': 0.6183045776735724, 'length_penalty': 1.9225983386734726, 'no_repeat_ngram_size': 2, 'early_stopping': True}. Best is trial 17 with value: 33.42558524292467.\u001b[0m\n"
     ]
    },
    {
     "name": "stdout",
     "output_type": "stream",
     "text": [
      "33.39320614459558\n"
     ]
    },
    {
     "name": "stderr",
     "output_type": "stream",
     "text": [
      "\u001b[32m[I 2023-05-29 01:52:59,417]\u001b[0m Trial 21 finished with value: 33.42138293240136 and parameters: {'repetition_penalty': 0.19582170390328563, 'num_beams': 5, 'max_length': 0.47179055285826743, 'length_penalty': 1.994514956326935, 'no_repeat_ngram_size': 1, 'early_stopping': True}. Best is trial 17 with value: 33.42558524292467.\u001b[0m\n"
     ]
    },
    {
     "name": "stdout",
     "output_type": "stream",
     "text": [
      "33.42138293240136\n"
     ]
    },
    {
     "name": "stderr",
     "output_type": "stream",
     "text": [
      "\u001b[32m[I 2023-05-29 01:57:11,298]\u001b[0m Trial 22 finished with value: 33.42138293240136 and parameters: {'repetition_penalty': 0.28043179843829213, 'num_beams': 5, 'max_length': 0.47220213373394315, 'length_penalty': 1.9996460388398531, 'no_repeat_ngram_size': 1, 'early_stopping': True}. Best is trial 17 with value: 33.42558524292467.\u001b[0m\n"
     ]
    },
    {
     "name": "stdout",
     "output_type": "stream",
     "text": [
      "33.42138293240136\n"
     ]
    },
    {
     "name": "stderr",
     "output_type": "stream",
     "text": [
      "\u001b[32m[I 2023-05-29 02:02:11,538]\u001b[0m Trial 23 finished with value: 33.393664469481976 and parameters: {'repetition_penalty': 0.1701966308845871, 'num_beams': 5, 'max_length': 0.5428164533611182, 'length_penalty': 1.8357627835410737, 'no_repeat_ngram_size': 2, 'early_stopping': True}. Best is trial 17 with value: 33.42558524292467.\u001b[0m\n"
     ]
    },
    {
     "name": "stdout",
     "output_type": "stream",
     "text": [
      "33.393664469481976\n"
     ]
    },
    {
     "name": "stderr",
     "output_type": "stream",
     "text": [
      "\u001b[32m[I 2023-05-29 02:07:08,086]\u001b[0m Trial 24 finished with value: 33.38258500814544 and parameters: {'repetition_penalty': 0.20979985150333585, 'num_beams': 5, 'max_length': 0.4667531519876764, 'length_penalty': 1.8764275882608974, 'no_repeat_ngram_size': 0, 'early_stopping': True}. Best is trial 17 with value: 33.42558524292467.\u001b[0m\n"
     ]
    },
    {
     "name": "stdout",
     "output_type": "stream",
     "text": [
      "33.38258500814544\n"
     ]
    },
    {
     "name": "stderr",
     "output_type": "stream",
     "text": [
      "\u001b[32m[I 2023-05-29 02:11:20,222]\u001b[0m Trial 25 finished with value: 33.42262953840129 and parameters: {'repetition_penalty': 0.33716759318187983, 'num_beams': 5, 'max_length': 0.5648015165484884, 'length_penalty': 1.799062976949823, 'no_repeat_ngram_size': 1, 'early_stopping': True}. Best is trial 17 with value: 33.42558524292467.\u001b[0m\n"
     ]
    },
    {
     "name": "stdout",
     "output_type": "stream",
     "text": [
      "33.42262953840129\n"
     ]
    },
    {
     "name": "stderr",
     "output_type": "stream",
     "text": [
      "\u001b[32m[I 2023-05-29 02:16:13,378]\u001b[0m Trial 26 finished with value: 33.393235811807216 and parameters: {'repetition_penalty': 0.36135249171047085, 'num_beams': 3, 'max_length': 0.663915670137279, 'length_penalty': 1.784892806103591, 'no_repeat_ngram_size': 3, 'early_stopping': True}. Best is trial 17 with value: 33.42558524292467.\u001b[0m\n"
     ]
    },
    {
     "name": "stdout",
     "output_type": "stream",
     "text": [
      "33.393235811807216\n"
     ]
    },
    {
     "name": "stderr",
     "output_type": "stream",
     "text": [
      "\u001b[32m[I 2023-05-29 02:20:25,020]\u001b[0m Trial 27 finished with value: 33.42061886408786 and parameters: {'repetition_penalty': 0.2795154673981584, 'num_beams': 5, 'max_length': 0.5568682853422118, 'length_penalty': 1.577369890275172, 'no_repeat_ngram_size': 1, 'early_stopping': True}. Best is trial 17 with value: 33.42558524292467.\u001b[0m\n"
     ]
    },
    {
     "name": "stdout",
     "output_type": "stream",
     "text": [
      "33.42061886408786\n"
     ]
    },
    {
     "name": "stderr",
     "output_type": "stream",
     "text": [
      "\u001b[32m[I 2023-05-29 02:25:25,024]\u001b[0m Trial 28 finished with value: 33.393171132545675 and parameters: {'repetition_penalty': 0.3761022327590664, 'num_beams': 5, 'max_length': 0.7458648640430334, 'length_penalty': 1.7960248755699626, 'no_repeat_ngram_size': 2, 'early_stopping': True}. Best is trial 17 with value: 33.42558524292467.\u001b[0m\n"
     ]
    },
    {
     "name": "stdout",
     "output_type": "stream",
     "text": [
      "33.393171132545675\n"
     ]
    },
    {
     "name": "stderr",
     "output_type": "stream",
     "text": [
      "\u001b[32m[I 2023-05-29 02:30:09,001]\u001b[0m Trial 29 finished with value: 33.388931379486365 and parameters: {'repetition_penalty': 0.44252015384603943, 'num_beams': 3, 'max_length': 0.6605596932294552, 'length_penalty': 1.7445908153776504, 'no_repeat_ngram_size': 0, 'early_stopping': True}. Best is trial 17 with value: 33.42558524292467.\u001b[0m\n"
     ]
    },
    {
     "name": "stdout",
     "output_type": "stream",
     "text": [
      "33.388931379486365\n"
     ]
    },
    {
     "name": "stderr",
     "output_type": "stream",
     "text": [
      "\u001b[32m[I 2023-05-29 02:35:14,177]\u001b[0m Trial 30 finished with value: 33.38886855936505 and parameters: {'repetition_penalty': 0.10411612627298544, 'num_beams': 4, 'max_length': 0.58575362646126, 'length_penalty': 1.6892981523409738, 'no_repeat_ngram_size': 3, 'early_stopping': True}. Best is trial 17 with value: 33.42558524292467.\u001b[0m\n"
     ]
    },
    {
     "name": "stdout",
     "output_type": "stream",
     "text": [
      "33.38886855936505\n"
     ]
    },
    {
     "name": "stderr",
     "output_type": "stream",
     "text": [
      "\u001b[32m[I 2023-05-29 02:39:26,031]\u001b[0m Trial 31 finished with value: 33.421620586699675 and parameters: {'repetition_penalty': 0.22559586062512654, 'num_beams': 5, 'max_length': 0.4521299703519325, 'length_penalty': 1.9161818044161951, 'no_repeat_ngram_size': 1, 'early_stopping': True}. Best is trial 17 with value: 33.42558524292467.\u001b[0m\n"
     ]
    },
    {
     "name": "stdout",
     "output_type": "stream",
     "text": [
      "33.421620586699675\n"
     ]
    },
    {
     "name": "stderr",
     "output_type": "stream",
     "text": [
      "\u001b[32m[I 2023-05-29 02:43:37,910]\u001b[0m Trial 32 finished with value: 33.42161159454629 and parameters: {'repetition_penalty': 0.2299538197542172, 'num_beams': 5, 'max_length': 0.5227079909274928, 'length_penalty': 1.8717597032693567, 'no_repeat_ngram_size': 1, 'early_stopping': True}. Best is trial 17 with value: 33.42558524292467.\u001b[0m\n"
     ]
    },
    {
     "name": "stdout",
     "output_type": "stream",
     "text": [
      "33.42161159454629\n"
     ]
    },
    {
     "name": "stderr",
     "output_type": "stream",
     "text": [
      "\u001b[32m[I 2023-05-29 02:47:50,730]\u001b[0m Trial 33 finished with value: 33.4215576171109 and parameters: {'repetition_penalty': 0.32627050223578025, 'num_beams': 5, 'max_length': 0.45448161293813766, 'length_penalty': 1.885610061325059, 'no_repeat_ngram_size': 1, 'early_stopping': True}. Best is trial 17 with value: 33.42558524292467.\u001b[0m\n"
     ]
    },
    {
     "name": "stdout",
     "output_type": "stream",
     "text": [
      "33.4215576171109\n"
     ]
    },
    {
     "name": "stderr",
     "output_type": "stream",
     "text": [
      "\u001b[32m[I 2023-05-29 02:52:52,003]\u001b[0m Trial 34 finished with value: 33.39234662259072 and parameters: {'repetition_penalty': 0.2757842227866571, 'num_beams': 5, 'max_length': 0.5153030836546836, 'length_penalty': 1.5536198566697341, 'no_repeat_ngram_size': 2, 'early_stopping': True}. Best is trial 17 with value: 33.42558524292467.\u001b[0m\n"
     ]
    },
    {
     "name": "stdout",
     "output_type": "stream",
     "text": [
      "33.39234662259072\n"
     ]
    },
    {
     "name": "stderr",
     "output_type": "stream",
     "text": [
      "\u001b[32m[I 2023-05-29 02:59:13,994]\u001b[0m Trial 35 finished with value: 33.37797237369267 and parameters: {'repetition_penalty': 0.20968246085015493, 'num_beams': 5, 'max_length': 0.5315352997800603, 'length_penalty': 1.7272657068451542, 'no_repeat_ngram_size': 0, 'early_stopping': False}. Best is trial 17 with value: 33.42558524292467.\u001b[0m\n"
     ]
    },
    {
     "name": "stdout",
     "output_type": "stream",
     "text": [
      "33.37797237369267\n"
     ]
    },
    {
     "name": "stderr",
     "output_type": "stream",
     "text": [
      "\u001b[32m[I 2023-05-29 03:03:58,539]\u001b[0m Trial 36 finished with value: 33.405251744669364 and parameters: {'repetition_penalty': 0.3019550720744285, 'num_beams': 3, 'max_length': 0.4514233417489846, 'length_penalty': 1.4839922246952895, 'no_repeat_ngram_size': 2, 'early_stopping': True}. Best is trial 17 with value: 33.42558524292467.\u001b[0m\n"
     ]
    },
    {
     "name": "stdout",
     "output_type": "stream",
     "text": [
      "33.405251744669364\n"
     ]
    },
    {
     "name": "stderr",
     "output_type": "stream",
     "text": [
      "\u001b[32m[I 2023-05-29 03:09:33,154]\u001b[0m Trial 37 finished with value: 33.43292938937342 and parameters: {'repetition_penalty': 0.07646740230728141, 'num_beams': 4, 'max_length': 0.5736392665171125, 'length_penalty': 1.9148381566198995, 'no_repeat_ngram_size': 1, 'early_stopping': False}. Best is trial 37 with value: 33.43292938937342.\u001b[0m\n"
     ]
    },
    {
     "name": "stdout",
     "output_type": "stream",
     "text": [
      "33.43292938937342\n"
     ]
    },
    {
     "name": "stderr",
     "output_type": "stream",
     "text": [
      "\u001b[32m[I 2023-05-29 03:15:37,988]\u001b[0m Trial 38 finished with value: 33.38278037371735 and parameters: {'repetition_penalty': 0.07373118515015453, 'num_beams': 4, 'max_length': 0.5732177502510232, 'length_penalty': 1.6316797510372854, 'no_repeat_ngram_size': 3, 'early_stopping': False}. Best is trial 37 with value: 33.43292938937342.\u001b[0m\n"
     ]
    },
    {
     "name": "stdout",
     "output_type": "stream",
     "text": [
      "33.38278037371735\n"
     ]
    },
    {
     "name": "stderr",
     "output_type": "stream",
     "text": [
      "\u001b[32m[I 2023-05-29 03:21:55,903]\u001b[0m Trial 39 finished with value: 33.380948693161926 and parameters: {'repetition_penalty': 0.14942291258450002, 'num_beams': 4, 'max_length': 0.5939006140313761, 'length_penalty': 1.742911884091622, 'no_repeat_ngram_size': 5, 'early_stopping': False}. Best is trial 37 with value: 33.43292938937342.\u001b[0m\n"
     ]
    },
    {
     "name": "stdout",
     "output_type": "stream",
     "text": [
      "33.380948693161926\n"
     ]
    },
    {
     "name": "stderr",
     "output_type": "stream",
     "text": [
      "\u001b[32m[I 2023-05-29 03:27:35,364]\u001b[0m Trial 40 finished with value: 33.391887868337754 and parameters: {'repetition_penalty': 0.08116422978906519, 'num_beams': 4, 'max_length': 0.645172150954034, 'length_penalty': 1.4442254333798275, 'no_repeat_ngram_size': 2, 'early_stopping': False}. Best is trial 37 with value: 33.43292938937342.\u001b[0m\n"
     ]
    },
    {
     "name": "stdout",
     "output_type": "stream",
     "text": [
      "33.391887868337754\n"
     ]
    },
    {
     "name": "stderr",
     "output_type": "stream",
     "text": [
      "\u001b[32m[I 2023-05-29 03:33:05,985]\u001b[0m Trial 41 finished with value: 33.43246203570633 and parameters: {'repetition_penalty': 0.18172717085102352, 'num_beams': 4, 'max_length': 0.5038884508817358, 'length_penalty': 1.9155808131075716, 'no_repeat_ngram_size': 1, 'early_stopping': False}. Best is trial 37 with value: 33.43292938937342.\u001b[0m\n"
     ]
    },
    {
     "name": "stdout",
     "output_type": "stream",
     "text": [
      "33.43246203570633\n"
     ]
    },
    {
     "name": "stderr",
     "output_type": "stream",
     "text": [
      "\u001b[32m[I 2023-05-29 03:38:19,435]\u001b[0m Trial 42 finished with value: 33.429812474160016 and parameters: {'repetition_penalty': 0.17244084431118326, 'num_beams': 4, 'max_length': 0.501790849234238, 'length_penalty': 1.8362122852017728, 'no_repeat_ngram_size': 1, 'early_stopping': False}. Best is trial 37 with value: 33.43292938937342.\u001b[0m\n"
     ]
    },
    {
     "name": "stdout",
     "output_type": "stream",
     "text": [
      "33.429812474160016\n"
     ]
    },
    {
     "name": "stderr",
     "output_type": "stream",
     "text": [
      "\u001b[32m[I 2023-05-29 03:44:28,504]\u001b[0m Trial 43 finished with value: 33.382358950201585 and parameters: {'repetition_penalty': 0.17232805964222453, 'num_beams': 4, 'max_length': 0.4914805451455533, 'length_penalty': 1.823650489317123, 'no_repeat_ngram_size': 0, 'early_stopping': False}. Best is trial 37 with value: 33.43292938937342.\u001b[0m\n"
     ]
    },
    {
     "name": "stdout",
     "output_type": "stream",
     "text": [
      "33.382358950201585\n"
     ]
    },
    {
     "name": "stderr",
     "output_type": "stream",
     "text": [
      "\u001b[32m[I 2023-05-29 03:49:42,967]\u001b[0m Trial 44 finished with value: 33.430204317418294 and parameters: {'repetition_penalty': 0.06505382062131815, 'num_beams': 4, 'max_length': 0.5442936198817877, 'length_penalty': 1.8344318459904416, 'no_repeat_ngram_size': 1, 'early_stopping': False}. Best is trial 37 with value: 33.43292938937342.\u001b[0m\n"
     ]
    },
    {
     "name": "stdout",
     "output_type": "stream",
     "text": [
      "33.430204317418294\n"
     ]
    },
    {
     "name": "stderr",
     "output_type": "stream",
     "text": [
      "\u001b[32m[I 2023-05-29 03:54:31,862]\u001b[0m Trial 45 finished with value: 33.42374023156352 and parameters: {'repetition_penalty': 0.060573312617842476, 'num_beams': 4, 'max_length': 0.5394855817822845, 'length_penalty': 1.6607341644828262, 'no_repeat_ngram_size': 1, 'early_stopping': False}. Best is trial 37 with value: 33.43292938937342.\u001b[0m\n"
     ]
    },
    {
     "name": "stdout",
     "output_type": "stream",
     "text": [
      "33.42374023156352\n"
     ]
    },
    {
     "name": "stderr",
     "output_type": "stream",
     "text": [
      "\u001b[32m[I 2023-05-29 04:00:28,910]\u001b[0m Trial 46 finished with value: 33.39796079859199 and parameters: {'repetition_penalty': 0.1485345084566806, 'num_beams': 4, 'max_length': 0.5073593987064678, 'length_penalty': 1.8941090708018222, 'no_repeat_ngram_size': 2, 'early_stopping': False}. Best is trial 37 with value: 33.43292938937342.\u001b[0m\n"
     ]
    },
    {
     "name": "stdout",
     "output_type": "stream",
     "text": [
      "33.39796079859199\n"
     ]
    },
    {
     "name": "stderr",
     "output_type": "stream",
     "text": [
      "\u001b[32m[I 2023-05-29 04:06:33,641]\u001b[0m Trial 47 finished with value: 33.380445925314724 and parameters: {'repetition_penalty': 0.05504762228821028, 'num_beams': 4, 'max_length': 0.4376180885523193, 'length_penalty': 1.7293549485365112, 'no_repeat_ngram_size': 0, 'early_stopping': False}. Best is trial 37 with value: 33.43292938937342.\u001b[0m\n"
     ]
    },
    {
     "name": "stdout",
     "output_type": "stream",
     "text": [
      "33.380445925314724\n"
     ]
    },
    {
     "name": "stderr",
     "output_type": "stream",
     "text": [
      "\u001b[32m[I 2023-05-29 04:12:14,346]\u001b[0m Trial 48 finished with value: 33.43520877791314 and parameters: {'repetition_penalty': 0.10872483934043677, 'num_beams': 4, 'max_length': 0.49093833729719016, 'length_penalty': 1.9888870357128872, 'no_repeat_ngram_size': 1, 'early_stopping': False}. Best is trial 48 with value: 33.43520877791314.\u001b[0m\n"
     ]
    },
    {
     "name": "stdout",
     "output_type": "stream",
     "text": [
      "33.43520877791314\n"
     ]
    },
    {
     "name": "stderr",
     "output_type": "stream",
     "text": [
      "\u001b[32m[I 2023-05-29 04:18:34,850]\u001b[0m Trial 49 finished with value: 33.38336758991781 and parameters: {'repetition_penalty': 0.10896333717552728, 'num_beams': 4, 'max_length': 0.49964280796749483, 'length_penalty': 1.8368825870127734, 'no_repeat_ngram_size': 4, 'early_stopping': False}. Best is trial 48 with value: 33.43520877791314.\u001b[0m\n"
     ]
    },
    {
     "name": "stdout",
     "output_type": "stream",
     "text": [
      "33.38336758991781\n"
     ]
    },
    {
     "name": "stderr",
     "output_type": "stream",
     "text": [
      "\u001b[32m[I 2023-05-29 04:23:19,819]\u001b[0m Trial 50 finished with value: 33.42014472762462 and parameters: {'repetition_penalty': 0.036922723654408796, 'num_beams': 4, 'max_length': 0.5517976988105169, 'length_penalty': 1.6119684512335954, 'no_repeat_ngram_size': 1, 'early_stopping': False}. Best is trial 48 with value: 33.43520877791314.\u001b[0m\n"
     ]
    },
    {
     "name": "stdout",
     "output_type": "stream",
     "text": [
      "33.42014472762462\n"
     ]
    },
    {
     "name": "stderr",
     "output_type": "stream",
     "text": [
      "\u001b[32m[I 2023-05-29 04:28:54,234]\u001b[0m Trial 51 finished with value: 33.43563566102127 and parameters: {'repetition_penalty': 0.11739407448491415, 'num_beams': 4, 'max_length': 0.43417376480987874, 'length_penalty': 1.9476357325483413, 'no_repeat_ngram_size': 1, 'early_stopping': False}. Best is trial 51 with value: 33.43563566102127.\u001b[0m\n"
     ]
    },
    {
     "name": "stdout",
     "output_type": "stream",
     "text": [
      "33.43563566102127\n"
     ]
    },
    {
     "name": "stderr",
     "output_type": "stream",
     "text": [
      "\u001b[32m[I 2023-05-29 04:34:25,535]\u001b[0m Trial 52 finished with value: 33.43221664581631 and parameters: {'repetition_penalty': 0.09135770425530056, 'num_beams': 4, 'max_length': 0.4895220638790113, 'length_penalty': 1.9180315164138253, 'no_repeat_ngram_size': 1, 'early_stopping': False}. Best is trial 51 with value: 33.43563566102127.\u001b[0m\n"
     ]
    },
    {
     "name": "stdout",
     "output_type": "stream",
     "text": [
      "33.43221664581631\n"
     ]
    },
    {
     "name": "stderr",
     "output_type": "stream",
     "text": [
      "\u001b[32m[I 2023-05-29 04:39:56,396]\u001b[0m Trial 53 finished with value: 33.43557375686547 and parameters: {'repetition_penalty': 0.006373840470169367, 'num_beams': 4, 'max_length': 0.4310770980878693, 'length_penalty': 1.9399890226963554, 'no_repeat_ngram_size': 1, 'early_stopping': False}. Best is trial 51 with value: 33.43563566102127.\u001b[0m\n"
     ]
    },
    {
     "name": "stdout",
     "output_type": "stream",
     "text": [
      "33.43557375686547\n"
     ]
    },
    {
     "name": "stderr",
     "output_type": "stream",
     "text": [
      "\u001b[32m[I 2023-05-29 04:46:11,569]\u001b[0m Trial 54 finished with value: 33.38352107075642 and parameters: {'repetition_penalty': 0.02011695773457918, 'num_beams': 4, 'max_length': 0.43895096840056613, 'length_penalty': 1.932401884992968, 'no_repeat_ngram_size': 0, 'early_stopping': False}. Best is trial 51 with value: 33.43563566102127.\u001b[0m\n"
     ]
    },
    {
     "name": "stdout",
     "output_type": "stream",
     "text": [
      "33.38352107075642\n"
     ]
    },
    {
     "name": "stderr",
     "output_type": "stream",
     "text": [
      "\u001b[32m[I 2023-05-29 04:52:12,688]\u001b[0m Trial 55 finished with value: 33.39750973267736 and parameters: {'repetition_penalty': 0.12340849002226673, 'num_beams': 4, 'max_length': 0.43194358060311205, 'length_penalty': 1.988337426312644, 'no_repeat_ngram_size': 2, 'early_stopping': False}. Best is trial 51 with value: 33.43563566102127.\u001b[0m\n"
     ]
    },
    {
     "name": "stdout",
     "output_type": "stream",
     "text": [
      "33.39750973267736\n"
     ]
    },
    {
     "name": "stderr",
     "output_type": "stream",
     "text": [
      "\u001b[32m[I 2023-05-29 04:57:43,614]\u001b[0m Trial 56 finished with value: 33.43292896521244 and parameters: {'repetition_penalty': 0.0011204759940523935, 'num_beams': 4, 'max_length': 0.47892878205963785, 'length_penalty': 1.9228548056855002, 'no_repeat_ngram_size': 1, 'early_stopping': False}. Best is trial 51 with value: 33.43563566102127.\u001b[0m\n"
     ]
    },
    {
     "name": "stdout",
     "output_type": "stream",
     "text": [
      "33.43292896521244\n"
     ]
    },
    {
     "name": "stderr",
     "output_type": "stream",
     "text": [
      "\u001b[32m[I 2023-05-29 05:03:23,598]\u001b[0m Trial 57 finished with value: 33.43537248314116 and parameters: {'repetition_penalty': 0.00325067527903386, 'num_beams': 4, 'max_length': 0.478067358024059, 'length_penalty': 1.9864273957946659, 'no_repeat_ngram_size': 1, 'early_stopping': False}. Best is trial 51 with value: 33.43563566102127.\u001b[0m\n"
     ]
    },
    {
     "name": "stdout",
     "output_type": "stream",
     "text": [
      "33.43537248314116\n"
     ]
    },
    {
     "name": "stderr",
     "output_type": "stream",
     "text": [
      "\u001b[32m[I 2023-05-29 05:09:39,866]\u001b[0m Trial 58 finished with value: 33.383952882874375 and parameters: {'repetition_penalty': 0.0011820073977791001, 'num_beams': 4, 'max_length': 0.42418432260220307, 'length_penalty': 1.990771475377592, 'no_repeat_ngram_size': 0, 'early_stopping': False}. Best is trial 51 with value: 33.43563566102127.\u001b[0m\n"
     ]
    },
    {
     "name": "stdout",
     "output_type": "stream",
     "text": [
      "33.383952882874375\n"
     ]
    },
    {
     "name": "stderr",
     "output_type": "stream",
     "text": [
      "\u001b[32m[I 2023-05-29 05:15:31,112]\u001b[0m Trial 59 finished with value: 33.394978407495756 and parameters: {'repetition_penalty': 0.0007096636021320241, 'num_beams': 4, 'max_length': 0.47596202967636203, 'length_penalty': 1.7517806432350633, 'no_repeat_ngram_size': 2, 'early_stopping': False}. Best is trial 51 with value: 33.43563566102127.\u001b[0m\n"
     ]
    },
    {
     "name": "stdout",
     "output_type": "stream",
     "text": [
      "33.394978407495756\n"
     ]
    },
    {
     "name": "stderr",
     "output_type": "stream",
     "text": [
      "\u001b[32m[I 2023-05-29 05:21:03,877]\u001b[0m Trial 60 finished with value: 33.43557924531432 and parameters: {'repetition_penalty': 0.07118091902994068, 'num_beams': 4, 'max_length': 0.41743755415815187, 'length_penalty': 1.9471460658306834, 'no_repeat_ngram_size': 1, 'early_stopping': False}. Best is trial 51 with value: 33.43563566102127.\u001b[0m\n"
     ]
    },
    {
     "name": "stdout",
     "output_type": "stream",
     "text": [
      "33.43557924531432\n"
     ]
    },
    {
     "name": "stderr",
     "output_type": "stream",
     "text": [
      "\u001b[32m[I 2023-05-29 05:26:38,638]\u001b[0m Trial 61 finished with value: 33.436832361267065 and parameters: {'repetition_penalty': 0.03657671556007456, 'num_beams': 4, 'max_length': 0.4193862846988271, 'length_penalty': 1.9554354329528894, 'no_repeat_ngram_size': 1, 'early_stopping': False}. Best is trial 61 with value: 33.436832361267065.\u001b[0m\n"
     ]
    },
    {
     "name": "stdout",
     "output_type": "stream",
     "text": [
      "33.436832361267065\n"
     ]
    },
    {
     "name": "stderr",
     "output_type": "stream",
     "text": [
      "\u001b[32m[I 2023-05-29 05:32:18,118]\u001b[0m Trial 62 finished with value: 33.43619133494426 and parameters: {'repetition_penalty': 0.04634745454627076, 'num_beams': 4, 'max_length': 0.40362797126667005, 'length_penalty': 1.9968431503721933, 'no_repeat_ngram_size': 1, 'early_stopping': False}. Best is trial 61 with value: 33.436832361267065.\u001b[0m\n"
     ]
    },
    {
     "name": "stdout",
     "output_type": "stream",
     "text": [
      "33.43619133494426\n"
     ]
    },
    {
     "name": "stderr",
     "output_type": "stream",
     "text": [
      "\u001b[32m[I 2023-05-29 05:37:56,517]\u001b[0m Trial 63 finished with value: 33.43563308477291 and parameters: {'repetition_penalty': 0.03886424066768482, 'num_beams': 4, 'max_length': 0.4011385335416986, 'length_penalty': 1.9876464592128005, 'no_repeat_ngram_size': 1, 'early_stopping': False}. Best is trial 61 with value: 33.436832361267065.\u001b[0m\n"
     ]
    },
    {
     "name": "stdout",
     "output_type": "stream",
     "text": [
      "33.43563308477291\n"
     ]
    },
    {
     "name": "stderr",
     "output_type": "stream",
     "text": [
      "\u001b[32m[I 2023-05-29 05:43:36,439]\u001b[0m Trial 64 finished with value: 33.4362017102892 and parameters: {'repetition_penalty': 0.037925265978423245, 'num_beams': 4, 'max_length': 0.401238522631621, 'length_penalty': 1.9988459584346392, 'no_repeat_ngram_size': 1, 'early_stopping': False}. Best is trial 61 with value: 33.436832361267065.\u001b[0m\n"
     ]
    },
    {
     "name": "stdout",
     "output_type": "stream",
     "text": [
      "33.4362017102892\n"
     ]
    },
    {
     "name": "stderr",
     "output_type": "stream",
     "text": [
      "\u001b[32m[I 2023-05-29 05:49:46,653]\u001b[0m Trial 65 finished with value: 33.38250551687192 and parameters: {'repetition_penalty': 0.039265987694255815, 'num_beams': 4, 'max_length': 0.40121503272030473, 'length_penalty': 1.8694294651589844, 'no_repeat_ngram_size': 0, 'early_stopping': False}. Best is trial 61 with value: 33.436832361267065.\u001b[0m\n"
     ]
    },
    {
     "name": "stdout",
     "output_type": "stream",
     "text": [
      "33.38250551687192\n"
     ]
    },
    {
     "name": "stderr",
     "output_type": "stream",
     "text": [
      "\u001b[32m[I 2023-05-29 05:54:52,801]\u001b[0m Trial 66 finished with value: 33.43000543768096 and parameters: {'repetition_penalty': 0.04141273483822483, 'num_beams': 4, 'max_length': 0.41791290932474523, 'length_penalty': 1.7961000130215965, 'no_repeat_ngram_size': 1, 'early_stopping': False}. Best is trial 61 with value: 33.436832361267065.\u001b[0m\n"
     ]
    },
    {
     "name": "stdout",
     "output_type": "stream",
     "text": [
      "33.43000543768096\n"
     ]
    },
    {
     "name": "stderr",
     "output_type": "stream",
     "text": [
      "\u001b[32m[I 2023-05-29 06:00:21,601]\u001b[0m Trial 67 finished with value: 33.40256317021784 and parameters: {'repetition_penalty': 0.13691300500673526, 'num_beams': 3, 'max_length': 0.40051670403723677, 'length_penalty': 1.6831391028929341, 'no_repeat_ngram_size': 2, 'early_stopping': False}. Best is trial 61 with value: 33.436832361267065.\u001b[0m\n"
     ]
    },
    {
     "name": "stdout",
     "output_type": "stream",
     "text": [
      "33.40256317021784\n"
     ]
    },
    {
     "name": "stderr",
     "output_type": "stream",
     "text": [
      "\u001b[32m[I 2023-05-29 06:05:38,099]\u001b[0m Trial 68 finished with value: 33.432421635624515 and parameters: {'repetition_penalty': 0.08647701283753559, 'num_beams': 4, 'max_length': 0.4262588502868915, 'length_penalty': 1.8664062569105984, 'no_repeat_ngram_size': 1, 'early_stopping': False}. Best is trial 61 with value: 33.436832361267065.\u001b[0m\n"
     ]
    },
    {
     "name": "stdout",
     "output_type": "stream",
     "text": [
      "33.432421635624515\n"
     ]
    },
    {
     "name": "stderr",
     "output_type": "stream",
     "text": [
      "\u001b[32m[I 2023-05-29 06:11:12,397]\u001b[0m Trial 69 finished with value: 33.43480798672546 and parameters: {'repetition_penalty': 0.03902934361423795, 'num_beams': 4, 'max_length': 0.4490995970345415, 'length_penalty': 1.9496040545776787, 'no_repeat_ngram_size': 1, 'early_stopping': False}. Best is trial 61 with value: 33.436832361267065.\u001b[0m\n"
     ]
    },
    {
     "name": "stdout",
     "output_type": "stream",
     "text": [
      "33.43480798672546\n"
     ]
    },
    {
     "name": "stderr",
     "output_type": "stream",
     "text": [
      "\u001b[32m[I 2023-05-29 06:17:18,831]\u001b[0m Trial 70 finished with value: 33.38027806780593 and parameters: {'repetition_penalty': 0.12467135748566517, 'num_beams': 4, 'max_length': 0.42201683704732385, 'length_penalty': 1.7670832482995666, 'no_repeat_ngram_size': 0, 'early_stopping': False}. Best is trial 61 with value: 33.436832361267065.\u001b[0m\n"
     ]
    },
    {
     "name": "stdout",
     "output_type": "stream",
     "text": [
      "33.38027806780593\n"
     ]
    },
    {
     "name": "stderr",
     "output_type": "stream",
     "text": [
      "\u001b[32m[I 2023-05-29 06:22:59,425]\u001b[0m Trial 71 finished with value: 33.435476954544754 and parameters: {'repetition_penalty': 0.0287031197262103, 'num_beams': 4, 'max_length': 0.4603529580602945, 'length_penalty': 1.9910586673712403, 'no_repeat_ngram_size': 1, 'early_stopping': False}. Best is trial 61 with value: 33.436832361267065.\u001b[0m\n"
     ]
    },
    {
     "name": "stdout",
     "output_type": "stream",
     "text": [
      "33.435476954544754\n"
     ]
    },
    {
     "name": "stderr",
     "output_type": "stream",
     "text": [
      "\u001b[32m[I 2023-05-29 06:28:35,388]\u001b[0m Trial 72 finished with value: 33.43583173366925 and parameters: {'repetition_penalty': 0.04614544701912978, 'num_beams': 4, 'max_length': 0.4631205304988052, 'length_penalty': 1.9572841190709733, 'no_repeat_ngram_size': 1, 'early_stopping': False}. Best is trial 61 with value: 33.436832361267065.\u001b[0m\n"
     ]
    },
    {
     "name": "stdout",
     "output_type": "stream",
     "text": [
      "33.43583173366925\n"
     ]
    },
    {
     "name": "stderr",
     "output_type": "stream",
     "text": [
      "\u001b[32m[I 2023-05-29 06:34:08,289]\u001b[0m Trial 73 finished with value: 33.435481083275164 and parameters: {'repetition_penalty': 0.06232659003915873, 'num_beams': 4, 'max_length': 0.43900018373343974, 'length_penalty': 1.9432894331972088, 'no_repeat_ngram_size': 1, 'early_stopping': False}. Best is trial 61 with value: 33.436832361267065.\u001b[0m\n"
     ]
    },
    {
     "name": "stdout",
     "output_type": "stream",
     "text": [
      "33.435481083275164\n"
     ]
    },
    {
     "name": "stderr",
     "output_type": "stream",
     "text": [
      "\u001b[32m[I 2023-05-29 06:38:27,237]\u001b[0m Trial 74 finished with value: 33.43108935710625 and parameters: {'repetition_penalty': 0.09336284253593126, 'num_beams': 2, 'max_length': 0.41415450278327237, 'length_penalty': 1.8900143448211226, 'no_repeat_ngram_size': 1, 'early_stopping': False}. Best is trial 61 with value: 33.436832361267065.\u001b[0m\n"
     ]
    },
    {
     "name": "stdout",
     "output_type": "stream",
     "text": [
      "33.43108935710625\n",
      "CPU times: total: 6h 29min 48s\n",
      "Wall time: 6h 30min 39s\n"
     ]
    }
   ],
   "source": [
    "%%time\n",
    "\n",
    "study.optimize(objective, n_trials=75)"
   ]
  },
  {
   "cell_type": "code",
   "execution_count": 38,
   "id": "5af51fb3",
   "metadata": {},
   "outputs": [
    {
     "name": "stdout",
     "output_type": "stream",
     "text": [
      "Best trial:\n",
      "Value:  33.436832361267065\n",
      "Params: \n",
      "repetition_penalty: 0.03657671556007456\n",
      "num_beams: 4\n",
      "max_length: 0.4193862846988271\n",
      "length_penalty: 1.9554354329528894\n",
      "no_repeat_ngram_size: 1\n",
      "early_stopping: False\n"
     ]
    }
   ],
   "source": [
    "# Получение результатов\n",
    "best_trial = study.best_trial\n",
    "\n",
    "print(\"Best trial:\")\n",
    "print(\"Value: \", best_trial.value)\n",
    "print(\"Params: \")\n",
    "for key, value in best_trial.params.items():\n",
    "    print(\"{}: {}\".format(key, value))"
   ]
  },
  {
   "cell_type": "code",
   "execution_count": 39,
   "id": "c90405d9",
   "metadata": {},
   "outputs": [],
   "source": [
    "filehandler = open(\"optuna_predict_trials.obj\",\"wb\")\n",
    "pickle.dump(study.get_trials(), filehandler)\n",
    "filehandler.close()"
   ]
  },
  {
   "cell_type": "code",
   "execution_count": 41,
   "id": "a7d60196",
   "metadata": {},
   "outputs": [],
   "source": [
    "with open('optuna_predict_trials.obj', 'rb') as f:\n",
    "    obj = pickle.load(f)"
   ]
  },
  {
   "cell_type": "code",
   "execution_count": 42,
   "id": "eb8f8c7a",
   "metadata": {},
   "outputs": [],
   "source": [
    "tb = []\n",
    "\n",
    "for i in range(len(obj)):\n",
    "    trial = obj[i]   \n",
    "    params = {}\n",
    "    params['iter'] = trial.number\n",
    "    params.update(trial.params)\n",
    "    params['loss'] = trial.values[0]\n",
    "    tb.append(params)"
   ]
  },
  {
   "cell_type": "code",
   "execution_count": 46,
   "id": "1da68de0",
   "metadata": {},
   "outputs": [
    {
     "data": {
      "text/html": [
       "<div>\n",
       "<style scoped>\n",
       "    .dataframe tbody tr th:only-of-type {\n",
       "        vertical-align: middle;\n",
       "    }\n",
       "\n",
       "    .dataframe tbody tr th {\n",
       "        vertical-align: top;\n",
       "    }\n",
       "\n",
       "    .dataframe thead th {\n",
       "        text-align: right;\n",
       "    }\n",
       "</style>\n",
       "<table border=\"1\" class=\"dataframe\">\n",
       "  <thead>\n",
       "    <tr style=\"text-align: right;\">\n",
       "      <th></th>\n",
       "      <th>iter</th>\n",
       "      <th>repetition_penalty</th>\n",
       "      <th>num_beams</th>\n",
       "      <th>max_length</th>\n",
       "      <th>length_penalty</th>\n",
       "      <th>no_repeat_ngram_size</th>\n",
       "      <th>early_stopping</th>\n",
       "      <th>loss</th>\n",
       "    </tr>\n",
       "  </thead>\n",
       "  <tbody>\n",
       "    <tr>\n",
       "      <th>61</th>\n",
       "      <td>61</td>\n",
       "      <td>0.036577</td>\n",
       "      <td>4</td>\n",
       "      <td>0.419386</td>\n",
       "      <td>1.955435</td>\n",
       "      <td>1</td>\n",
       "      <td>False</td>\n",
       "      <td>33.436832</td>\n",
       "    </tr>\n",
       "    <tr>\n",
       "      <th>64</th>\n",
       "      <td>64</td>\n",
       "      <td>0.037925</td>\n",
       "      <td>4</td>\n",
       "      <td>0.401239</td>\n",
       "      <td>1.998846</td>\n",
       "      <td>1</td>\n",
       "      <td>False</td>\n",
       "      <td>33.436202</td>\n",
       "    </tr>\n",
       "    <tr>\n",
       "      <th>62</th>\n",
       "      <td>62</td>\n",
       "      <td>0.046347</td>\n",
       "      <td>4</td>\n",
       "      <td>0.403628</td>\n",
       "      <td>1.996843</td>\n",
       "      <td>1</td>\n",
       "      <td>False</td>\n",
       "      <td>33.436191</td>\n",
       "    </tr>\n",
       "    <tr>\n",
       "      <th>72</th>\n",
       "      <td>72</td>\n",
       "      <td>0.046145</td>\n",
       "      <td>4</td>\n",
       "      <td>0.463121</td>\n",
       "      <td>1.957284</td>\n",
       "      <td>1</td>\n",
       "      <td>False</td>\n",
       "      <td>33.435832</td>\n",
       "    </tr>\n",
       "    <tr>\n",
       "      <th>51</th>\n",
       "      <td>51</td>\n",
       "      <td>0.117394</td>\n",
       "      <td>4</td>\n",
       "      <td>0.434174</td>\n",
       "      <td>1.947636</td>\n",
       "      <td>1</td>\n",
       "      <td>False</td>\n",
       "      <td>33.435636</td>\n",
       "    </tr>\n",
       "    <tr>\n",
       "      <th>63</th>\n",
       "      <td>63</td>\n",
       "      <td>0.038864</td>\n",
       "      <td>4</td>\n",
       "      <td>0.401139</td>\n",
       "      <td>1.987646</td>\n",
       "      <td>1</td>\n",
       "      <td>False</td>\n",
       "      <td>33.435633</td>\n",
       "    </tr>\n",
       "    <tr>\n",
       "      <th>60</th>\n",
       "      <td>60</td>\n",
       "      <td>0.071181</td>\n",
       "      <td>4</td>\n",
       "      <td>0.417438</td>\n",
       "      <td>1.947146</td>\n",
       "      <td>1</td>\n",
       "      <td>False</td>\n",
       "      <td>33.435579</td>\n",
       "    </tr>\n",
       "    <tr>\n",
       "      <th>53</th>\n",
       "      <td>53</td>\n",
       "      <td>0.006374</td>\n",
       "      <td>4</td>\n",
       "      <td>0.431077</td>\n",
       "      <td>1.939989</td>\n",
       "      <td>1</td>\n",
       "      <td>False</td>\n",
       "      <td>33.435574</td>\n",
       "    </tr>\n",
       "    <tr>\n",
       "      <th>73</th>\n",
       "      <td>73</td>\n",
       "      <td>0.062327</td>\n",
       "      <td>4</td>\n",
       "      <td>0.439000</td>\n",
       "      <td>1.943289</td>\n",
       "      <td>1</td>\n",
       "      <td>False</td>\n",
       "      <td>33.435481</td>\n",
       "    </tr>\n",
       "    <tr>\n",
       "      <th>71</th>\n",
       "      <td>71</td>\n",
       "      <td>0.028703</td>\n",
       "      <td>4</td>\n",
       "      <td>0.460353</td>\n",
       "      <td>1.991059</td>\n",
       "      <td>1</td>\n",
       "      <td>False</td>\n",
       "      <td>33.435477</td>\n",
       "    </tr>\n",
       "    <tr>\n",
       "      <th>57</th>\n",
       "      <td>57</td>\n",
       "      <td>0.003251</td>\n",
       "      <td>4</td>\n",
       "      <td>0.478067</td>\n",
       "      <td>1.986427</td>\n",
       "      <td>1</td>\n",
       "      <td>False</td>\n",
       "      <td>33.435372</td>\n",
       "    </tr>\n",
       "    <tr>\n",
       "      <th>48</th>\n",
       "      <td>48</td>\n",
       "      <td>0.108725</td>\n",
       "      <td>4</td>\n",
       "      <td>0.490938</td>\n",
       "      <td>1.988887</td>\n",
       "      <td>1</td>\n",
       "      <td>False</td>\n",
       "      <td>33.435209</td>\n",
       "    </tr>\n",
       "    <tr>\n",
       "      <th>69</th>\n",
       "      <td>69</td>\n",
       "      <td>0.039029</td>\n",
       "      <td>4</td>\n",
       "      <td>0.449100</td>\n",
       "      <td>1.949604</td>\n",
       "      <td>1</td>\n",
       "      <td>False</td>\n",
       "      <td>33.434808</td>\n",
       "    </tr>\n",
       "    <tr>\n",
       "      <th>37</th>\n",
       "      <td>37</td>\n",
       "      <td>0.076467</td>\n",
       "      <td>4</td>\n",
       "      <td>0.573639</td>\n",
       "      <td>1.914838</td>\n",
       "      <td>1</td>\n",
       "      <td>False</td>\n",
       "      <td>33.432929</td>\n",
       "    </tr>\n",
       "    <tr>\n",
       "      <th>56</th>\n",
       "      <td>56</td>\n",
       "      <td>0.001120</td>\n",
       "      <td>4</td>\n",
       "      <td>0.478929</td>\n",
       "      <td>1.922855</td>\n",
       "      <td>1</td>\n",
       "      <td>False</td>\n",
       "      <td>33.432929</td>\n",
       "    </tr>\n",
       "    <tr>\n",
       "      <th>41</th>\n",
       "      <td>41</td>\n",
       "      <td>0.181727</td>\n",
       "      <td>4</td>\n",
       "      <td>0.503888</td>\n",
       "      <td>1.915581</td>\n",
       "      <td>1</td>\n",
       "      <td>False</td>\n",
       "      <td>33.432462</td>\n",
       "    </tr>\n",
       "    <tr>\n",
       "      <th>68</th>\n",
       "      <td>68</td>\n",
       "      <td>0.086477</td>\n",
       "      <td>4</td>\n",
       "      <td>0.426259</td>\n",
       "      <td>1.866406</td>\n",
       "      <td>1</td>\n",
       "      <td>False</td>\n",
       "      <td>33.432422</td>\n",
       "    </tr>\n",
       "    <tr>\n",
       "      <th>52</th>\n",
       "      <td>52</td>\n",
       "      <td>0.091358</td>\n",
       "      <td>4</td>\n",
       "      <td>0.489522</td>\n",
       "      <td>1.918032</td>\n",
       "      <td>1</td>\n",
       "      <td>False</td>\n",
       "      <td>33.432217</td>\n",
       "    </tr>\n",
       "    <tr>\n",
       "      <th>74</th>\n",
       "      <td>74</td>\n",
       "      <td>0.093363</td>\n",
       "      <td>2</td>\n",
       "      <td>0.414155</td>\n",
       "      <td>1.890014</td>\n",
       "      <td>1</td>\n",
       "      <td>False</td>\n",
       "      <td>33.431089</td>\n",
       "    </tr>\n",
       "    <tr>\n",
       "      <th>44</th>\n",
       "      <td>44</td>\n",
       "      <td>0.065054</td>\n",
       "      <td>4</td>\n",
       "      <td>0.544294</td>\n",
       "      <td>1.834432</td>\n",
       "      <td>1</td>\n",
       "      <td>False</td>\n",
       "      <td>33.430204</td>\n",
       "    </tr>\n",
       "  </tbody>\n",
       "</table>\n",
       "</div>"
      ],
      "text/plain": [
       "    iter  repetition_penalty  num_beams  max_length  length_penalty  \\\n",
       "61    61            0.036577          4    0.419386        1.955435   \n",
       "64    64            0.037925          4    0.401239        1.998846   \n",
       "62    62            0.046347          4    0.403628        1.996843   \n",
       "72    72            0.046145          4    0.463121        1.957284   \n",
       "51    51            0.117394          4    0.434174        1.947636   \n",
       "63    63            0.038864          4    0.401139        1.987646   \n",
       "60    60            0.071181          4    0.417438        1.947146   \n",
       "53    53            0.006374          4    0.431077        1.939989   \n",
       "73    73            0.062327          4    0.439000        1.943289   \n",
       "71    71            0.028703          4    0.460353        1.991059   \n",
       "57    57            0.003251          4    0.478067        1.986427   \n",
       "48    48            0.108725          4    0.490938        1.988887   \n",
       "69    69            0.039029          4    0.449100        1.949604   \n",
       "37    37            0.076467          4    0.573639        1.914838   \n",
       "56    56            0.001120          4    0.478929        1.922855   \n",
       "41    41            0.181727          4    0.503888        1.915581   \n",
       "68    68            0.086477          4    0.426259        1.866406   \n",
       "52    52            0.091358          4    0.489522        1.918032   \n",
       "74    74            0.093363          2    0.414155        1.890014   \n",
       "44    44            0.065054          4    0.544294        1.834432   \n",
       "\n",
       "    no_repeat_ngram_size  early_stopping       loss  \n",
       "61                     1           False  33.436832  \n",
       "64                     1           False  33.436202  \n",
       "62                     1           False  33.436191  \n",
       "72                     1           False  33.435832  \n",
       "51                     1           False  33.435636  \n",
       "63                     1           False  33.435633  \n",
       "60                     1           False  33.435579  \n",
       "53                     1           False  33.435574  \n",
       "73                     1           False  33.435481  \n",
       "71                     1           False  33.435477  \n",
       "57                     1           False  33.435372  \n",
       "48                     1           False  33.435209  \n",
       "69                     1           False  33.434808  \n",
       "37                     1           False  33.432929  \n",
       "56                     1           False  33.432929  \n",
       "41                     1           False  33.432462  \n",
       "68                     1           False  33.432422  \n",
       "52                     1           False  33.432217  \n",
       "74                     1           False  33.431089  \n",
       "44                     1           False  33.430204  "
      ]
     },
     "execution_count": 46,
     "metadata": {},
     "output_type": "execute_result"
    }
   ],
   "source": [
    "pd.DataFrame(tb).sort_values(by='loss', ascending=False).head(20)"
   ]
  }
 ],
 "metadata": {
  "kernelspec": {
   "display_name": "Python 3 (ipykernel)",
   "language": "python",
   "name": "python3"
  },
  "language_info": {
   "codemirror_mode": {
    "name": "ipython",
    "version": 3
   },
   "file_extension": ".py",
   "mimetype": "text/x-python",
   "name": "python",
   "nbconvert_exporter": "python",
   "pygments_lexer": "ipython3",
   "version": "3.10.11"
  }
 },
 "nbformat": 4,
 "nbformat_minor": 5
}
