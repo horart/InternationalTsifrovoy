{
 "cells": [
  {
   "cell_type": "code",
   "execution_count": 38,
   "id": "d3b3f64f",
   "metadata": {},
   "outputs": [],
   "source": [
    "import pandas as pd\n",
    "import pymorphy2\n",
    "import nltk\n",
    "from nltk.corpus import stopwords\n",
    "import re\n",
    "import unicodedata\n",
    "import seaborn as sns"
   ]
  },
  {
   "cell_type": "code",
   "execution_count": 2,
   "id": "9c8229a7",
   "metadata": {},
   "outputs": [
    {
     "name": "stderr",
     "output_type": "stream",
     "text": [
      "[nltk_data] Downloading package stopwords to\n",
      "[nltk_data]     C:\\Users\\nkhozin\\AppData\\Roaming\\nltk_data...\n",
      "[nltk_data]   Package stopwords is already up-to-date!\n"
     ]
    },
    {
     "data": {
      "text/plain": [
       "True"
      ]
     },
     "execution_count": 2,
     "metadata": {},
     "output_type": "execute_result"
    }
   ],
   "source": [
    "nltk.download('stopwords')"
   ]
  },
  {
   "cell_type": "code",
   "execution_count": 3,
   "id": "4aebebe5",
   "metadata": {},
   "outputs": [],
   "source": [
    "stopWords = stopwords.words(\"russian\")"
   ]
  },
  {
   "cell_type": "code",
   "execution_count": 4,
   "id": "6b814d41",
   "metadata": {},
   "outputs": [],
   "source": [
    "morph = pymorphy2.MorphAnalyzer(lang='ru')"
   ]
  },
  {
   "cell_type": "code",
   "execution_count": 53,
   "id": "76c17d38",
   "metadata": {},
   "outputs": [],
   "source": [
    "train = pd.read_csv('data\\\\train.csv', index_col=0)\n",
    "train_small = pd.read_csv('data\\\\train_small.csv', index_col=0)"
   ]
  },
  {
   "cell_type": "code",
   "execution_count": 54,
   "id": "03a98cb2",
   "metadata": {},
   "outputs": [],
   "source": [
    "train = pd.concat([train, train_small], axis=0)"
   ]
  },
  {
   "cell_type": "code",
   "execution_count": 56,
   "id": "c8aa6158",
   "metadata": {},
   "outputs": [],
   "source": [
    "train = train[(train['type']!='para_phraser')&(train['size'].isin(['small','medium']))]"
   ]
  },
  {
   "cell_type": "code",
   "execution_count": 57,
   "id": "f6c0cd91",
   "metadata": {},
   "outputs": [
    {
     "data": {
      "text/plain": [
       "(83118, 8)"
      ]
     },
     "execution_count": 57,
     "metadata": {},
     "output_type": "execute_result"
    }
   ],
   "source": [
    "train.shape"
   ]
  },
  {
   "cell_type": "code",
   "execution_count": 58,
   "id": "d6ff34e0",
   "metadata": {},
   "outputs": [
    {
     "data": {
      "text/html": [
       "<div>\n",
       "<style scoped>\n",
       "    .dataframe tbody tr th:only-of-type {\n",
       "        vertical-align: middle;\n",
       "    }\n",
       "\n",
       "    .dataframe tbody tr th {\n",
       "        vertical-align: top;\n",
       "    }\n",
       "\n",
       "    .dataframe thead th {\n",
       "        text-align: right;\n",
       "    }\n",
       "</style>\n",
       "<table border=\"1\" class=\"dataframe\">\n",
       "  <thead>\n",
       "    <tr style=\"text-align: right;\">\n",
       "      <th></th>\n",
       "      <th>source</th>\n",
       "      <th>target</th>\n",
       "      <th>type</th>\n",
       "      <th>source_len</th>\n",
       "      <th>target_len</th>\n",
       "      <th>size</th>\n",
       "      <th>part</th>\n",
       "      <th>mark</th>\n",
       "    </tr>\n",
       "  </thead>\n",
       "  <tbody>\n",
       "    <tr>\n",
       "      <th>64407</th>\n",
       "      <td>simplify | Сторонники Уго Чавеса не видели сво...</td>\n",
       "      <td>Основное оппозиционное движение в Венесуэле пр...</td>\n",
       "      <td>ru_xlsum</td>\n",
       "      <td>796</td>\n",
       "      <td>40</td>\n",
       "      <td>medium</td>\n",
       "      <td>5.025126</td>\n",
       "      <td>0</td>\n",
       "    </tr>\n",
       "    <tr>\n",
       "      <th>2251</th>\n",
       "      <td>simplify | Он пошел по дороге, огибающей парк,...</td>\n",
       "      <td>VII  Он пошёл к своей даче. Сердце его стучало...</td>\n",
       "      <td>ru_adapt</td>\n",
       "      <td>147</td>\n",
       "      <td>146</td>\n",
       "      <td>small</td>\n",
       "      <td>99.319728</td>\n",
       "      <td>1</td>\n",
       "    </tr>\n",
       "    <tr>\n",
       "      <th>5479</th>\n",
       "      <td>simplify | * * * По Тверскому бульвару быстрым...</td>\n",
       "      <td>По Тверскому бульвару быстро шёл хорошо, но не...</td>\n",
       "      <td>ru_adapt</td>\n",
       "      <td>216</td>\n",
       "      <td>74</td>\n",
       "      <td>small</td>\n",
       "      <td>34.259259</td>\n",
       "      <td>1</td>\n",
       "    </tr>\n",
       "    <tr>\n",
       "      <th>4056</th>\n",
       "      <td>simplify | Слышно: «Прощайте! Будьте здоровы!»...</td>\n",
       "      <td>Андрей в пальто и шляпе и Чебутыкин тихо входят.</td>\n",
       "      <td>ru_adapt</td>\n",
       "      <td>82</td>\n",
       "      <td>20</td>\n",
       "      <td>small</td>\n",
       "      <td>24.390244</td>\n",
       "      <td>1</td>\n",
       "    </tr>\n",
       "    <tr>\n",
       "      <th>22174</th>\n",
       "      <td>simplify | Это было для нее загадкою.</td>\n",
       "      <td>Это было для неё загадкой.</td>\n",
       "      <td>ru_adapt</td>\n",
       "      <td>14</td>\n",
       "      <td>11</td>\n",
       "      <td>small</td>\n",
       "      <td>78.571429</td>\n",
       "      <td>1</td>\n",
       "    </tr>\n",
       "  </tbody>\n",
       "</table>\n",
       "</div>"
      ],
      "text/plain": [
       "                                                  source  \\\n",
       "64407  simplify | Сторонники Уго Чавеса не видели сво...   \n",
       "2251   simplify | Он пошел по дороге, огибающей парк,...   \n",
       "5479   simplify | * * * По Тверскому бульвару быстрым...   \n",
       "4056   simplify | Слышно: «Прощайте! Будьте здоровы!»...   \n",
       "22174             simplify | Это было для нее загадкою.    \n",
       "\n",
       "                                                  target      type  \\\n",
       "64407  Основное оппозиционное движение в Венесуэле пр...  ru_xlsum   \n",
       "2251   VII  Он пошёл к своей даче. Сердце его стучало...  ru_adapt   \n",
       "5479   По Тверскому бульвару быстро шёл хорошо, но не...  ru_adapt   \n",
       "4056    Андрей в пальто и шляпе и Чебутыкин тихо входят.  ru_adapt   \n",
       "22174                        Это было для неё загадкой.   ru_adapt   \n",
       "\n",
       "       source_len  target_len    size       part  mark  \n",
       "64407         796          40  medium   5.025126     0  \n",
       "2251          147         146   small  99.319728     1  \n",
       "5479          216          74   small  34.259259     1  \n",
       "4056           82          20   small  24.390244     1  \n",
       "22174          14          11   small  78.571429     1  "
      ]
     },
     "execution_count": 58,
     "metadata": {},
     "output_type": "execute_result"
    }
   ],
   "source": [
    "train.head()"
   ]
  },
  {
   "cell_type": "code",
   "execution_count": 59,
   "id": "c9247131",
   "metadata": {},
   "outputs": [],
   "source": [
    "def lineWithoutStopWords(line):\n",
    "    return [word for word in line if word not in stopWords]\n",
    "\n",
    "def lemmatize(text):\n",
    "    res = list()\n",
    "    for word in text:\n",
    "        p = morph.parse(word)[0]\n",
    "        res.append(p.normal_form)\n",
    "    return res"
   ]
  },
  {
   "cell_type": "code",
   "execution_count": 60,
   "id": "b40b9361",
   "metadata": {},
   "outputs": [
    {
     "name": "stderr",
     "output_type": "stream",
     "text": [
      "C:\\Users\\nkhozin\\AppData\\Local\\Temp\\ipykernel_11336\\4137111929.py:1: SettingWithCopyWarning: \n",
      "A value is trying to be set on a copy of a slice from a DataFrame.\n",
      "Try using .loc[row_indexer,col_indexer] = value instead\n",
      "\n",
      "See the caveats in the documentation: https://pandas.pydata.org/pandas-docs/stable/user_guide/indexing.html#returning-a-view-versus-a-copy\n",
      "  train.source = train.source.apply(lambda values: values.split('| ')[1])\n"
     ]
    }
   ],
   "source": [
    "train.source = train.source.apply(lambda values: values.split('| ')[1])"
   ]
  },
  {
   "cell_type": "code",
   "execution_count": 61,
   "id": "e23368d0",
   "metadata": {},
   "outputs": [
    {
     "name": "stderr",
     "output_type": "stream",
     "text": [
      "C:\\Users\\nkhozin\\AppData\\Local\\Temp\\ipykernel_11336\\53206757.py:4: SettingWithCopyWarning: \n",
      "A value is trying to be set on a copy of a slice from a DataFrame.\n",
      "Try using .loc[row_indexer,col_indexer] = value instead\n",
      "\n",
      "See the caveats in the documentation: https://pandas.pydata.org/pandas-docs/stable/user_guide/indexing.html#returning-a-view-versus-a-copy\n",
      "  train.source = train.source.apply(lambda value: unicodedata.normalize(\"NFKD\", value))\n",
      "C:\\Users\\nkhozin\\AppData\\Local\\Temp\\ipykernel_11336\\53206757.py:5: SettingWithCopyWarning: \n",
      "A value is trying to be set on a copy of a slice from a DataFrame.\n",
      "Try using .loc[row_indexer,col_indexer] = value instead\n",
      "\n",
      "See the caveats in the documentation: https://pandas.pydata.org/pandas-docs/stable/user_guide/indexing.html#returning-a-view-versus-a-copy\n",
      "  train.target = train.target.apply(lambda value: unicodedata.normalize(\"NFKD\", value))\n"
     ]
    }
   ],
   "source": [
    "train.source = train.source.apply(lambda value: unicodedata.normalize(\"NFKD\", value))\n",
    "train.target = train.target.apply(lambda value: unicodedata.normalize(\"NFKD\", value))"
   ]
  },
  {
   "cell_type": "code",
   "execution_count": 62,
   "id": "43b94a99",
   "metadata": {},
   "outputs": [
    {
     "name": "stderr",
     "output_type": "stream",
     "text": [
      "<timed exec>:1: SettingWithCopyWarning: \n",
      "A value is trying to be set on a copy of a slice from a DataFrame.\n",
      "Try using .loc[row_indexer,col_indexer] = value instead\n",
      "\n",
      "See the caveats in the documentation: https://pandas.pydata.org/pandas-docs/stable/user_guide/indexing.html#returning-a-view-versus-a-copy\n"
     ]
    },
    {
     "name": "stdout",
     "output_type": "stream",
     "text": [
      "CPU times: total: 1.27 s\n",
      "Wall time: 1.24 s\n"
     ]
    },
    {
     "name": "stderr",
     "output_type": "stream",
     "text": [
      "<timed exec>:2: SettingWithCopyWarning: \n",
      "A value is trying to be set on a copy of a slice from a DataFrame.\n",
      "Try using .loc[row_indexer,col_indexer] = value instead\n",
      "\n",
      "See the caveats in the documentation: https://pandas.pydata.org/pandas-docs/stable/user_guide/indexing.html#returning-a-view-versus-a-copy\n"
     ]
    }
   ],
   "source": [
    "%%time\n",
    "\n",
    "train['source_clean'] = train.source.apply(lambda value: re.sub(r'[^\\w\\s]',' ',value,flags=re.UNICODE))\n",
    "train['target_clean'] = train.target.apply(lambda value: re.sub(r'[^\\w\\s]',' ',value,flags=re.UNICODE))"
   ]
  },
  {
   "cell_type": "code",
   "execution_count": 63,
   "id": "e5231021",
   "metadata": {},
   "outputs": [
    {
     "name": "stderr",
     "output_type": "stream",
     "text": [
      "<timed exec>:1: SettingWithCopyWarning: \n",
      "A value is trying to be set on a copy of a slice from a DataFrame.\n",
      "Try using .loc[row_indexer,col_indexer] = value instead\n",
      "\n",
      "See the caveats in the documentation: https://pandas.pydata.org/pandas-docs/stable/user_guide/indexing.html#returning-a-view-versus-a-copy\n"
     ]
    },
    {
     "name": "stdout",
     "output_type": "stream",
     "text": [
      "CPU times: total: 15.4 s\n",
      "Wall time: 15.4 s\n"
     ]
    },
    {
     "name": "stderr",
     "output_type": "stream",
     "text": [
      "<timed exec>:2: SettingWithCopyWarning: \n",
      "A value is trying to be set on a copy of a slice from a DataFrame.\n",
      "Try using .loc[row_indexer,col_indexer] = value instead\n",
      "\n",
      "See the caveats in the documentation: https://pandas.pydata.org/pandas-docs/stable/user_guide/indexing.html#returning-a-view-versus-a-copy\n"
     ]
    }
   ],
   "source": [
    "%%time\n",
    "\n",
    "train['source_clean'] = train.source_clean.apply(lambda values: ' '.join(lineWithoutStopWords(values.split(' '))))\n",
    "train['target_clean'] = train.target_clean.apply(lambda values: ' '.join(lineWithoutStopWords(values.split(' '))))"
   ]
  },
  {
   "cell_type": "code",
   "execution_count": 64,
   "id": "fb7adb71",
   "metadata": {},
   "outputs": [
    {
     "name": "stderr",
     "output_type": "stream",
     "text": [
      "<timed exec>:1: SettingWithCopyWarning: \n",
      "A value is trying to be set on a copy of a slice from a DataFrame.\n",
      "Try using .loc[row_indexer,col_indexer] = value instead\n",
      "\n",
      "See the caveats in the documentation: https://pandas.pydata.org/pandas-docs/stable/user_guide/indexing.html#returning-a-view-versus-a-copy\n"
     ]
    },
    {
     "name": "stdout",
     "output_type": "stream",
     "text": [
      "CPU times: total: 2.73 s\n",
      "Wall time: 2.73 s\n"
     ]
    },
    {
     "name": "stderr",
     "output_type": "stream",
     "text": [
      "<timed exec>:2: SettingWithCopyWarning: \n",
      "A value is trying to be set on a copy of a slice from a DataFrame.\n",
      "Try using .loc[row_indexer,col_indexer] = value instead\n",
      "\n",
      "See the caveats in the documentation: https://pandas.pydata.org/pandas-docs/stable/user_guide/indexing.html#returning-a-view-versus-a-copy\n"
     ]
    }
   ],
   "source": [
    "%%time\n",
    "\n",
    "train['source_clean'] = train['source_clean'].apply(lambda value: (re.sub(' +', ' ', value).strip().split(' ')))\n",
    "train['target_clean'] = train['target_clean'].apply(lambda value: (re.sub(' +', ' ', value).strip().split(' ')))"
   ]
  },
  {
   "cell_type": "code",
   "execution_count": 65,
   "id": "837fa13a",
   "metadata": {},
   "outputs": [
    {
     "data": {
      "text/html": [
       "<div>\n",
       "<style scoped>\n",
       "    .dataframe tbody tr th:only-of-type {\n",
       "        vertical-align: middle;\n",
       "    }\n",
       "\n",
       "    .dataframe tbody tr th {\n",
       "        vertical-align: top;\n",
       "    }\n",
       "\n",
       "    .dataframe thead th {\n",
       "        text-align: right;\n",
       "    }\n",
       "</style>\n",
       "<table border=\"1\" class=\"dataframe\">\n",
       "  <thead>\n",
       "    <tr style=\"text-align: right;\">\n",
       "      <th></th>\n",
       "      <th>source</th>\n",
       "      <th>target</th>\n",
       "      <th>type</th>\n",
       "      <th>source_len</th>\n",
       "      <th>target_len</th>\n",
       "      <th>size</th>\n",
       "      <th>part</th>\n",
       "      <th>mark</th>\n",
       "      <th>source_clean</th>\n",
       "      <th>target_clean</th>\n",
       "    </tr>\n",
       "  </thead>\n",
       "  <tbody>\n",
       "  </tbody>\n",
       "</table>\n",
       "</div>"
      ],
      "text/plain": [
       "Empty DataFrame\n",
       "Columns: [source, target, type, source_len, target_len, size, part, mark, source_clean, target_clean]\n",
       "Index: []"
      ]
     },
     "execution_count": 65,
     "metadata": {},
     "output_type": "execute_result"
    }
   ],
   "source": [
    "train[train.source_len<=train.target_len]"
   ]
  },
  {
   "cell_type": "code",
   "execution_count": 66,
   "id": "f855b5aa",
   "metadata": {},
   "outputs": [
    {
     "name": "stderr",
     "output_type": "stream",
     "text": [
      "<timed exec>:1: SettingWithCopyWarning: \n",
      "A value is trying to be set on a copy of a slice from a DataFrame.\n",
      "Try using .loc[row_indexer,col_indexer] = value instead\n",
      "\n",
      "See the caveats in the documentation: https://pandas.pydata.org/pandas-docs/stable/user_guide/indexing.html#returning-a-view-versus-a-copy\n"
     ]
    },
    {
     "name": "stdout",
     "output_type": "stream",
     "text": [
      "CPU times: total: 14min 59s\n",
      "Wall time: 15min\n"
     ]
    },
    {
     "name": "stderr",
     "output_type": "stream",
     "text": [
      "<timed exec>:2: SettingWithCopyWarning: \n",
      "A value is trying to be set on a copy of a slice from a DataFrame.\n",
      "Try using .loc[row_indexer,col_indexer] = value instead\n",
      "\n",
      "See the caveats in the documentation: https://pandas.pydata.org/pandas-docs/stable/user_guide/indexing.html#returning-a-view-versus-a-copy\n"
     ]
    }
   ],
   "source": [
    "%%time\n",
    "\n",
    "train['source_clean'] = train.source_clean.apply(lemmatize)\n",
    "train['target_clean'] = train.target_clean.apply(lemmatize)"
   ]
  },
  {
   "cell_type": "code",
   "execution_count": 67,
   "id": "c7a9c101",
   "metadata": {},
   "outputs": [
    {
     "name": "stdout",
     "output_type": "stream",
     "text": [
      "CPU times: total: 984 ms\n",
      "Wall time: 981 ms\n"
     ]
    },
    {
     "name": "stderr",
     "output_type": "stream",
     "text": [
      "<timed exec>:1: SettingWithCopyWarning: \n",
      "A value is trying to be set on a copy of a slice from a DataFrame.\n",
      "Try using .loc[row_indexer,col_indexer] = value instead\n",
      "\n",
      "See the caveats in the documentation: https://pandas.pydata.org/pandas-docs/stable/user_guide/indexing.html#returning-a-view-versus-a-copy\n"
     ]
    }
   ],
   "source": [
    "%%time\n",
    "\n",
    "train['same_lemm_count'] = train.apply(lambda row: len(set(row['source_clean']).intersection(row['target_clean'])), axis=1)"
   ]
  },
  {
   "cell_type": "code",
   "execution_count": 68,
   "id": "8907a717",
   "metadata": {},
   "outputs": [
    {
     "data": {
      "text/plain": [
       "<Axes: xlabel='same_lemm_count', ylabel='Count'>"
      ]
     },
     "execution_count": 68,
     "metadata": {},
     "output_type": "execute_result"
    },
    {
     "data": {
      "image/png": "[encoded data removed]",
      "text/plain": [
       "<Figure size 640x480 with 1 Axes>"
      ]
     },
     "metadata": {},
     "output_type": "display_data"
    }
   ],
   "source": [
    "sns.histplot(train.same_lemm_count, bins=100)"
   ]
  },
  {
   "cell_type": "code",
   "execution_count": 69,
   "id": "e0162512",
   "metadata": {},
   "outputs": [
    {
     "data": {
      "text/plain": [
       "(9248, 11)"
      ]
     },
     "execution_count": 69,
     "metadata": {},
     "output_type": "execute_result"
    }
   ],
   "source": [
    "train[train.same_lemm_count<=2].shape"
   ]
  },
  {
   "cell_type": "code",
   "execution_count": 70,
   "id": "8c022987",
   "metadata": {},
   "outputs": [
    {
     "data": {
      "text/plain": [
       "ru_adapt    7021\n",
       "ru_xlsum    1694\n",
       "ru_simp      528\n",
       "gazeta         5\n",
       "Name: type, dtype: int64"
      ]
     },
     "execution_count": 70,
     "metadata": {},
     "output_type": "execute_result"
    }
   ],
   "source": [
    "train[train.same_lemm_count<=2]['type'].value_counts()"
   ]
  },
  {
   "cell_type": "code",
   "execution_count": 71,
   "id": "d505370c",
   "metadata": {},
   "outputs": [],
   "source": [
    "train = train[train.same_lemm_count>2]"
   ]
  },
  {
   "cell_type": "code",
   "execution_count": 72,
   "id": "8dd748be",
   "metadata": {},
   "outputs": [
    {
     "data": {
      "text/plain": [
       "(73870, 11)"
      ]
     },
     "execution_count": 72,
     "metadata": {},
     "output_type": "execute_result"
    }
   ],
   "source": [
    "train.shape"
   ]
  },
  {
   "cell_type": "code",
   "execution_count": 73,
   "id": "efa9daef",
   "metadata": {},
   "outputs": [
    {
     "data": {
      "text/plain": [
       "ru_xlsum    33812\n",
       "ru_adapt    33072\n",
       "ru_simp      4624\n",
       "gazeta       2362\n",
       "Name: type, dtype: int64"
      ]
     },
     "execution_count": 73,
     "metadata": {},
     "output_type": "execute_result"
    }
   ],
   "source": [
    "train['type'].value_counts()"
   ]
  },
  {
   "cell_type": "code",
   "execution_count": 74,
   "id": "8fac5bf4",
   "metadata": {},
   "outputs": [
    {
     "name": "stdout",
     "output_type": "stream",
     "text": [
      "CPU times: total: 62.5 ms\n",
      "Wall time: 68.8 ms\n"
     ]
    }
   ],
   "source": [
    "%%time\n",
    "\n",
    "train.source = train.source.apply(lambda value: f'simplify | {value}')"
   ]
  },
  {
   "cell_type": "code",
   "execution_count": 75,
   "id": "0856c459",
   "metadata": {},
   "outputs": [
    {
     "data": {
      "text/html": [
       "<div>\n",
       "<style scoped>\n",
       "    .dataframe tbody tr th:only-of-type {\n",
       "        vertical-align: middle;\n",
       "    }\n",
       "\n",
       "    .dataframe tbody tr th {\n",
       "        vertical-align: top;\n",
       "    }\n",
       "\n",
       "    .dataframe thead th {\n",
       "        text-align: right;\n",
       "    }\n",
       "</style>\n",
       "<table border=\"1\" class=\"dataframe\">\n",
       "  <thead>\n",
       "    <tr style=\"text-align: right;\">\n",
       "      <th></th>\n",
       "      <th>source</th>\n",
       "      <th>target</th>\n",
       "      <th>type</th>\n",
       "      <th>source_len</th>\n",
       "      <th>target_len</th>\n",
       "      <th>size</th>\n",
       "      <th>part</th>\n",
       "      <th>mark</th>\n",
       "      <th>source_clean</th>\n",
       "      <th>target_clean</th>\n",
       "      <th>same_lemm_count</th>\n",
       "    </tr>\n",
       "  </thead>\n",
       "  <tbody>\n",
       "    <tr>\n",
       "      <th>64407</th>\n",
       "      <td>simplify | Сторонники Уго Чавеса не видели сво...</td>\n",
       "      <td>Основное оппозиционное движение в Венесуэле пр...</td>\n",
       "      <td>ru_xlsum</td>\n",
       "      <td>796</td>\n",
       "      <td>40</td>\n",
       "      <td>medium</td>\n",
       "      <td>5.025126</td>\n",
       "      <td>0</td>\n",
       "      <td>[сторонник, уго, чавес, видеть, свой, лидер, т...</td>\n",
       "      <td>[основный, оппозиционный, движение, венесуэла,...</td>\n",
       "      <td>10</td>\n",
       "    </tr>\n",
       "    <tr>\n",
       "      <th>2251</th>\n",
       "      <td>simplify | Он пошел по дороге, огибающей парк...</td>\n",
       "      <td>VII  Он пошёл к своей даче. Сердце его стуча...</td>\n",
       "      <td>ru_adapt</td>\n",
       "      <td>147</td>\n",
       "      <td>146</td>\n",
       "      <td>small</td>\n",
       "      <td>99.319728</td>\n",
       "      <td>1</td>\n",
       "      <td>[он, пойти, дорога, огибающей, парк, своей, да...</td>\n",
       "      <td>[vii, он, пош, л, своей, дача, сердце, стучать...</td>\n",
       "      <td>18</td>\n",
       "    </tr>\n",
       "    <tr>\n",
       "      <th>5479</th>\n",
       "      <td>simplify | * * * По Тверскому бульвару быстрым...</td>\n",
       "      <td>По Тверскому бульвару быстро шёл хорошо, но н...</td>\n",
       "      <td>ru_adapt</td>\n",
       "      <td>216</td>\n",
       "      <td>74</td>\n",
       "      <td>small</td>\n",
       "      <td>34.259259</td>\n",
       "      <td>1</td>\n",
       "      <td>[по, тверской, бульвар, быстрый, неверный, шаг...</td>\n",
       "      <td>[по, тверской, бульвар, быстро, ше, л, неаккур...</td>\n",
       "      <td>8</td>\n",
       "    </tr>\n",
       "  </tbody>\n",
       "</table>\n",
       "</div>"
      ],
      "text/plain": [
       "                                                  source  \\\n",
       "64407  simplify | Сторонники Уго Чавеса не видели сво...   \n",
       "2251   simplify | Он пошел по дороге, огибающей парк...   \n",
       "5479   simplify | * * * По Тверскому бульвару быстрым...   \n",
       "\n",
       "                                                  target      type  \\\n",
       "64407  Основное оппозиционное движение в Венесуэле пр...  ru_xlsum   \n",
       "2251   VII  Он пошёл к своей даче. Сердце его стуча...  ru_adapt   \n",
       "5479   По Тверскому бульвару быстро шёл хорошо, но н...  ru_adapt   \n",
       "\n",
       "       source_len  target_len    size       part  mark  \\\n",
       "64407         796          40  medium   5.025126     0   \n",
       "2251          147         146   small  99.319728     1   \n",
       "5479          216          74   small  34.259259     1   \n",
       "\n",
       "                                            source_clean  \\\n",
       "64407  [сторонник, уго, чавес, видеть, свой, лидер, т...   \n",
       "2251   [он, пойти, дорога, огибающей, парк, своей, да...   \n",
       "5479   [по, тверской, бульвар, быстрый, неверный, шаг...   \n",
       "\n",
       "                                            target_clean  same_lemm_count  \n",
       "64407  [основный, оппозиционный, движение, венесуэла,...               10  \n",
       "2251   [vii, он, пош, л, своей, дача, сердце, стучать...               18  \n",
       "5479   [по, тверской, бульвар, быстро, ше, л, неаккур...                8  "
      ]
     },
     "execution_count": 75,
     "metadata": {},
     "output_type": "execute_result"
    }
   ],
   "source": [
    "train.head(3)"
   ]
  },
  {
   "cell_type": "code",
   "execution_count": 79,
   "id": "6b5b4929",
   "metadata": {},
   "outputs": [
    {
     "data": {
      "text/plain": [
       "<Axes: xlabel='part', ylabel='Count'>"
      ]
     },
     "execution_count": 79,
     "metadata": {},
     "output_type": "execute_result"
    },
    {
     "data": {
      "image/png": "[encoded data removed]",
      "text/plain": [
       "<Figure size 640x480 with 1 Axes>"
      ]
     },
     "metadata": {},
     "output_type": "display_data"
    }
   ],
   "source": [
    "sns.histplot(train.part, bins=10)"
   ]
  },
  {
   "cell_type": "code",
   "execution_count": 84,
   "id": "74f09b77",
   "metadata": {},
   "outputs": [],
   "source": [
    "train = train[(train.part>10)&(train.part<90)]"
   ]
  },
  {
   "cell_type": "code",
   "execution_count": 85,
   "id": "9dde0a5f",
   "metadata": {},
   "outputs": [],
   "source": [
    "train.to_csv('data\\\\train_small_medium_mix_clean.csv')"
   ]
  }
 ],
 "metadata": {
  "kernelspec": {
   "display_name": "Python 3 (ipykernel)",
   "language": "python",
   "name": "python3"
  },
  "language_info": {
   "codemirror_mode": {
    "name": "ipython",
    "version": 3
   },
   "file_extension": ".py",
   "mimetype": "text/x-python",
   "name": "python",
   "nbconvert_exporter": "python",
   "pygments_lexer": "ipython3",
   "version": "3.10.11"
  }
 },
 "nbformat": 4,
 "nbformat_minor": 5
}
